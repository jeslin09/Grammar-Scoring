{
  "metadata": {
    "kernelspec": {
      "language": "python",
      "display_name": "Python 3",
      "name": "python3"
    },
    "language_info": {
      "name": "python",
      "version": "3.10.12",
      "mimetype": "text/x-python",
      "codemirror_mode": {
        "name": "ipython",
        "version": 3
      },
      "pygments_lexer": "ipython3",
      "nbconvert_exporter": "python",
      "file_extension": ".py"
    },
    "kaggle": {
      "accelerator": "nvidiaTeslaT4",
      "dataSources": [
        {
          "sourceId": 97919,
          "databundleVersionId": 11694977,
          "sourceType": "competition"
        }
      ],
      "dockerImageVersionId": 30919,
      "isInternetEnabled": true,
      "language": "python",
      "sourceType": "notebook",
      "isGpuEnabled": true
    },
    "colab": {
      "name": "Grammar Scoring 1",
      "provenance": []
    }
  },
  "nbformat_minor": 0,
  "nbformat": 4,
  "cells": [
    {
      "source": [
        "# IMPORTANT: SOME KAGGLE DATA SOURCES ARE PRIVATE\n",
        "# RUN THIS CELL IN ORDER TO IMPORT YOUR KAGGLE DATA SOURCES.\n",
        "import kagglehub\n",
        "kagglehub.login()\n"
      ],
      "metadata": {
        "id": "Sk6B9UqWEio_"
      },
      "cell_type": "code",
      "outputs": [],
      "execution_count": null
    },
    {
      "source": [
        "# IMPORTANT: RUN THIS CELL IN ORDER TO IMPORT YOUR KAGGLE DATA SOURCES,\n",
        "# THEN FEEL FREE TO DELETE THIS CELL.\n",
        "# NOTE: THIS NOTEBOOK ENVIRONMENT DIFFERS FROM KAGGLE'S PYTHON\n",
        "# ENVIRONMENT SO THERE MAY BE MISSING LIBRARIES USED BY YOUR\n",
        "# NOTEBOOK.\n",
        "\n",
        "shl_intern_hiring_assessment_path = kagglehub.competition_download('shl-intern-hiring-assessment')\n",
        "\n",
        "print('Data source import complete.')\n"
      ],
      "metadata": {
        "id": "LQbX4YbhEio_"
      },
      "cell_type": "code",
      "outputs": [],
      "execution_count": null
    },
    {
      "cell_type": "code",
      "source": [
        "import pandas as pd\n",
        "from sklearn.model_selection import train_test_split\n",
        "df_scores = pd.read_csv(\"/kaggle/input/shl-intern-hiring-assessment/dataset/train.csv\")\n",
        "train_df, val_df = train_test_split(df_scores, test_size=0.4, random_state=42)\n",
        "train_df = train_df.reset_index(drop=True)\n",
        "val_df = val_df.reset_index(drop=True)\n",
        "print(\"Train size:\", len(train_df))\n",
        "print(\"Val size:\", len(val_df))\n",
        "train_df.head()"
      ],
      "metadata": {
        "trusted": true,
        "execution": {
          "iopub.status.busy": "2025-04-05T09:47:37.495133Z",
          "iopub.execute_input": "2025-04-05T09:47:37.495451Z",
          "iopub.status.idle": "2025-04-05T09:47:37.51621Z",
          "shell.execute_reply.started": "2025-04-05T09:47:37.495424Z",
          "shell.execute_reply": "2025-04-05T09:47:37.515356Z"
        },
        "id": "B3lHq_xzEipA",
        "outputId": "233567cd-7e82-4e6d-e279-f828c26b7339"
      },
      "outputs": [
        {
          "name": "stdout",
          "text": "Train size: 266\nVal size: 178\n",
          "output_type": "stream"
        },
        {
          "execution_count": 6,
          "output_type": "execute_result",
          "data": {
            "text/plain": "        filename  label\n0  audio_188.wav    4.5\n1  audio_493.wav    5.0\n2  audio_868.wav    2.0\n3  audio_934.wav    2.0\n4   audio_74.wav    5.0",
            "text/html": "<div>\n<style scoped>\n    .dataframe tbody tr th:only-of-type {\n        vertical-align: middle;\n    }\n\n    .dataframe tbody tr th {\n        vertical-align: top;\n    }\n\n    .dataframe thead th {\n        text-align: right;\n    }\n</style>\n<table border=\"1\" class=\"dataframe\">\n  <thead>\n    <tr style=\"text-align: right;\">\n      <th></th>\n      <th>filename</th>\n      <th>label</th>\n    </tr>\n  </thead>\n  <tbody>\n    <tr>\n      <th>0</th>\n      <td>audio_188.wav</td>\n      <td>4.5</td>\n    </tr>\n    <tr>\n      <th>1</th>\n      <td>audio_493.wav</td>\n      <td>5.0</td>\n    </tr>\n    <tr>\n      <th>2</th>\n      <td>audio_868.wav</td>\n      <td>2.0</td>\n    </tr>\n    <tr>\n      <th>3</th>\n      <td>audio_934.wav</td>\n      <td>2.0</td>\n    </tr>\n    <tr>\n      <th>4</th>\n      <td>audio_74.wav</td>\n      <td>5.0</td>\n    </tr>\n  </tbody>\n</table>\n</div>"
          },
          "metadata": {}
        }
      ],
      "execution_count": null
    },
    {
      "cell_type": "code",
      "source": [
        "!pip install librosa --quiet"
      ],
      "metadata": {
        "trusted": true,
        "execution": {
          "iopub.status.busy": "2025-04-05T09:48:04.904197Z",
          "iopub.execute_input": "2025-04-05T09:48:04.904489Z",
          "iopub.status.idle": "2025-04-05T09:48:09.395554Z",
          "shell.execute_reply.started": "2025-04-05T09:48:04.904463Z",
          "shell.execute_reply": "2025-04-05T09:48:09.39459Z"
        },
        "id": "6KqYV3JkEipB"
      },
      "outputs": [],
      "execution_count": null
    },
    {
      "cell_type": "code",
      "source": [
        "import librosa\n",
        "import numpy as np\n",
        "\n",
        "def extract_features(file_path, sr=22050):\n",
        "    try:\n",
        "        y, sr = librosa.load(file_path, sr=sr, duration=60)  # Limit to 30s if needed\n",
        "        features = []\n",
        "\n",
        "        # MFCCs\n",
        "        mfccs = librosa.feature.mfcc(y=y, sr=sr, n_mfcc=13)\n",
        "        features.extend(np.mean(mfccs, axis=1))\n",
        "\n",
        "        # Chroma\n",
        "        chroma = librosa.feature.chroma_stft(y=y, sr=sr)\n",
        "        features.extend(np.mean(chroma, axis=1))\n",
        "\n",
        "        # Spectral Contrast\n",
        "        contrast = librosa.feature.spectral_contrast(y=y, sr=sr)\n",
        "        features.extend(np.mean(contrast, axis=1))\n",
        "\n",
        "        # Zero-crossing rate\n",
        "        zcr = librosa.feature.zero_crossing_rate(y)\n",
        "        features.append(np.mean(zcr))\n",
        "\n",
        "        # RMS energy\n",
        "        rms = librosa.feature.rms(y=y)\n",
        "        features.append(np.mean(rms))\n",
        "\n",
        "        return features\n",
        "    except Exception as e:\n",
        "        print(f\"Error processing {file_path}: {e}\")\n",
        "        return [0]*21  # fallback in case of error\n"
      ],
      "metadata": {
        "trusted": true,
        "execution": {
          "iopub.status.busy": "2025-04-05T09:48:53.454466Z",
          "iopub.execute_input": "2025-04-05T09:48:53.454862Z",
          "iopub.status.idle": "2025-04-05T09:48:53.46117Z",
          "shell.execute_reply.started": "2025-04-05T09:48:53.454819Z",
          "shell.execute_reply": "2025-04-05T09:48:53.460247Z"
        },
        "id": "MiFZLVWOEipB"
      },
      "outputs": [],
      "execution_count": null
    },
    {
      "cell_type": "code",
      "source": [
        "import os\n",
        "from tqdm import tqdm\n",
        "\n",
        "AUDIO_DIR = \"/kaggle/input/shl-intern-hiring-assessment/dataset/audios_train\"\n",
        "\n",
        "def generate_feature_df(df,audio_dir):\n",
        "    feature_list = []\n",
        "    for fname in tqdm(df['filename']):\n",
        "        file_path = os.path.join(AUDIO_DIR, fname)\n",
        "        features = extract_features(file_path)\n",
        "        feature_list.append(features)\n",
        "\n",
        "    features_df = pd.DataFrame(feature_list)\n",
        "    features_df.columns = [f'feature_{i}' for i in range(features_df.shape[1])]\n",
        "    return features_df\n"
      ],
      "metadata": {
        "trusted": true,
        "execution": {
          "iopub.status.busy": "2025-04-05T10:10:55.672186Z",
          "iopub.execute_input": "2025-04-05T10:10:55.672492Z",
          "iopub.status.idle": "2025-04-05T10:10:55.677628Z",
          "shell.execute_reply.started": "2025-04-05T10:10:55.672469Z",
          "shell.execute_reply": "2025-04-05T10:10:55.676728Z"
        },
        "id": "UHI_EhK1EipB"
      },
      "outputs": [],
      "execution_count": null
    },
    {
      "cell_type": "code",
      "source": [
        "X_train = generate_feature_df(train_df,AUDIO_DIR)\n",
        "y_train = train_df['label'].values\n",
        "\n",
        "X_val = generate_feature_df(val_df,AUDIO_DIR)\n",
        "y_val = val_df['label'].values\n"
      ],
      "metadata": {
        "trusted": true,
        "execution": {
          "iopub.status.busy": "2025-04-05T10:12:12.21716Z",
          "iopub.execute_input": "2025-04-05T10:12:12.217568Z",
          "iopub.status.idle": "2025-04-05T10:17:29.366635Z",
          "shell.execute_reply.started": "2025-04-05T10:12:12.217518Z",
          "shell.execute_reply": "2025-04-05T10:17:29.365634Z"
        },
        "id": "tflWfEndEipB",
        "outputId": "d23fa9af-749c-4e7d-a38e-89436e219ba2"
      },
      "outputs": [
        {
          "name": "stderr",
          "text": "100%|██████████| 266/266 [03:10<00:00,  1.39it/s]\n100%|██████████| 178/178 [02:06<00:00,  1.41it/s]\n",
          "output_type": "stream"
        }
      ],
      "execution_count": null
    },
    {
      "cell_type": "code",
      "source": [
        "import os\n",
        "import shutil\n",
        "\n",
        "original_audio_dir = \"/kaggle/input/shl-intern-hiring-assessment/dataset/audios_train\"\n",
        "train_audio_dir = \"/kaggle/working/audios_train\"\n",
        "val_audio_dir = \"/kaggle/working/audios_val\"\n",
        "os.makedirs(train_audio_dir, exist_ok=True)\n",
        "os.makedirs(val_audio_dir, exist_ok=True)\n",
        "for fname in train_df[\"filename\"]:\n",
        "    src = os.path.join(original_audio_dir, fname)\n",
        "    dst = os.path.join(train_audio_dir, fname)\n",
        "    shutil.copy2(src, dst)\n",
        "for fname in val_df[\"filename\"]:\n",
        "    src = os.path.join(original_audio_dir, fname)\n",
        "    dst = os.path.join(val_audio_dir, fname)\n",
        "    shutil.copy2(src, dst)\n"
      ],
      "metadata": {
        "trusted": true,
        "execution": {
          "iopub.status.busy": "2025-04-05T10:31:07.982493Z",
          "iopub.execute_input": "2025-04-05T10:31:07.983039Z",
          "iopub.status.idle": "2025-04-05T10:31:09.701156Z",
          "shell.execute_reply.started": "2025-04-05T10:31:07.983006Z",
          "shell.execute_reply": "2025-04-05T10:31:09.700135Z"
        },
        "id": "56vXeKVOEipB"
      },
      "outputs": [],
      "execution_count": null
    },
    {
      "cell_type": "code",
      "source": [
        "!pip install xgboost\n"
      ],
      "metadata": {
        "trusted": true,
        "execution": {
          "iopub.status.busy": "2025-04-05T10:31:16.646488Z",
          "iopub.execute_input": "2025-04-05T10:31:16.646881Z",
          "iopub.status.idle": "2025-04-05T10:31:19.993775Z",
          "shell.execute_reply.started": "2025-04-05T10:31:16.64685Z",
          "shell.execute_reply": "2025-04-05T10:31:19.992686Z"
        },
        "id": "hc7wOLKmEipB",
        "outputId": "2437a5b4-af76-4848-eab8-97bc0c270960"
      },
      "outputs": [
        {
          "name": "stdout",
          "text": "Requirement already satisfied: xgboost in /usr/local/lib/python3.10/dist-packages (2.0.3)\nRequirement already satisfied: numpy in /usr/local/lib/python3.10/dist-packages (from xgboost) (1.26.4)\nRequirement already satisfied: scipy in /usr/local/lib/python3.10/dist-packages (from xgboost) (1.13.1)\nRequirement already satisfied: mkl_fft in /usr/local/lib/python3.10/dist-packages (from numpy->xgboost) (1.3.8)\nRequirement already satisfied: mkl_random in /usr/local/lib/python3.10/dist-packages (from numpy->xgboost) (1.2.4)\nRequirement already satisfied: mkl_umath in /usr/local/lib/python3.10/dist-packages (from numpy->xgboost) (0.1.1)\nRequirement already satisfied: mkl in /usr/local/lib/python3.10/dist-packages (from numpy->xgboost) (2025.0.1)\nRequirement already satisfied: tbb4py in /usr/local/lib/python3.10/dist-packages (from numpy->xgboost) (2022.0.0)\nRequirement already satisfied: mkl-service in /usr/local/lib/python3.10/dist-packages (from numpy->xgboost) (2.4.1)\nRequirement already satisfied: intel-openmp>=2024 in /usr/local/lib/python3.10/dist-packages (from mkl->numpy->xgboost) (2024.2.0)\nRequirement already satisfied: tbb==2022.* in /usr/local/lib/python3.10/dist-packages (from mkl->numpy->xgboost) (2022.0.0)\nRequirement already satisfied: tcmlib==1.* in /usr/local/lib/python3.10/dist-packages (from tbb==2022.*->mkl->numpy->xgboost) (1.2.0)\nRequirement already satisfied: intel-cmplr-lib-rt in /usr/local/lib/python3.10/dist-packages (from mkl_umath->numpy->xgboost) (2024.2.0)\nRequirement already satisfied: intel-cmplr-lib-ur==2024.2.0 in /usr/local/lib/python3.10/dist-packages (from intel-openmp>=2024->mkl->numpy->xgboost) (2024.2.0)\n",
          "output_type": "stream"
        }
      ],
      "execution_count": null
    },
    {
      "cell_type": "code",
      "source": [
        "import xgboost as xgb\n",
        "from xgboost import XGBRegressor\n",
        "from sklearn.metrics import mean_squared_error\n",
        "model = XGBRegressor(n_estimators=100, max_depth=5, learning_rate=0.1, n_jobs=-1)\n",
        "model.fit(X_train, y_train)\n",
        "y_pred = model.predict(X_val)\n",
        "mse = mean_squared_error(y_val, y_pred)\n",
        "print(\"Validation MSE:\", mse)\n"
      ],
      "metadata": {
        "trusted": true,
        "execution": {
          "iopub.status.busy": "2025-04-05T10:31:20.131203Z",
          "iopub.execute_input": "2025-04-05T10:31:20.131493Z",
          "iopub.status.idle": "2025-04-05T10:31:20.423308Z",
          "shell.execute_reply.started": "2025-04-05T10:31:20.131468Z",
          "shell.execute_reply": "2025-04-05T10:31:20.422086Z"
        },
        "id": "Vxz9gUrsEipB",
        "outputId": "eb6febf4-dde3-48d2-e6c8-3a418c1b9e9e"
      },
      "outputs": [
        {
          "name": "stdout",
          "text": "Validation MSE: 0.915453399337885\n",
          "output_type": "stream"
        }
      ],
      "execution_count": null
    },
    {
      "cell_type": "code",
      "source": [
        "import matplotlib.pyplot as plt\n",
        "\n",
        "plt.scatter(y_val, y_pred, alpha=0.7)\n",
        "plt.xlabel(\"True Score\")\n",
        "plt.ylabel(\"Predicted Score\")\n",
        "plt.title(\"True vs Predicted Audio Assessment Scores\")\n",
        "plt.grid(True)\n",
        "plt.show()\n"
      ],
      "metadata": {
        "trusted": true,
        "execution": {
          "iopub.status.busy": "2025-04-05T10:31:23.36114Z",
          "iopub.execute_input": "2025-04-05T10:31:23.361482Z",
          "iopub.status.idle": "2025-04-05T10:31:23.566206Z",
          "shell.execute_reply.started": "2025-04-05T10:31:23.361443Z",
          "shell.execute_reply": "2025-04-05T10:31:23.565238Z"
        },
        "id": "AmBcRYLUEipC",
        "outputId": "1bb8aa06-6b5e-46fd-b8fd-b9be0575d1ed"
      },
      "outputs": [
        {
          "output_type": "display_data",
          "data": {
            "text/plain": "<Figure size 640x480 with 1 Axes>",
            "image/png": "[encoded data removed]"
          },
          "metadata": {}
        }
      ],
      "execution_count": null
    },
    {
      "cell_type": "code",
      "source": [
        "import pandas as pd\n",
        "\n",
        "test_df = pd.read_csv(\"/kaggle/input/shl-intern-hiring-assessment/dataset/test.csv\")  # update path if needed\n",
        "test_df.head()"
      ],
      "metadata": {
        "trusted": true,
        "execution": {
          "iopub.status.busy": "2025-04-05T10:31:27.73147Z",
          "iopub.execute_input": "2025-04-05T10:31:27.731859Z",
          "iopub.status.idle": "2025-04-05T10:31:27.74382Z",
          "shell.execute_reply.started": "2025-04-05T10:31:27.73183Z",
          "shell.execute_reply": "2025-04-05T10:31:27.742891Z"
        },
        "id": "modOGzdwEipC",
        "outputId": "f03585b6-2de9-4406-d9c1-7c029eeda57c"
      },
      "outputs": [
        {
          "execution_count": 40,
          "output_type": "execute_result",
          "data": {
            "text/plain": "         filename\n0   audio_706.wav\n1   audio_800.wav\n2    audio_68.wav\n3  audio_1267.wav\n4   audio_683.wav",
            "text/html": "<div>\n<style scoped>\n    .dataframe tbody tr th:only-of-type {\n        vertical-align: middle;\n    }\n\n    .dataframe tbody tr th {\n        vertical-align: top;\n    }\n\n    .dataframe thead th {\n        text-align: right;\n    }\n</style>\n<table border=\"1\" class=\"dataframe\">\n  <thead>\n    <tr style=\"text-align: right;\">\n      <th></th>\n      <th>filename</th>\n    </tr>\n  </thead>\n  <tbody>\n    <tr>\n      <th>0</th>\n      <td>audio_706.wav</td>\n    </tr>\n    <tr>\n      <th>1</th>\n      <td>audio_800.wav</td>\n    </tr>\n    <tr>\n      <th>2</th>\n      <td>audio_68.wav</td>\n    </tr>\n    <tr>\n      <th>3</th>\n      <td>audio_1267.wav</td>\n    </tr>\n    <tr>\n      <th>4</th>\n      <td>audio_683.wav</td>\n    </tr>\n  </tbody>\n</table>\n</div>"
          },
          "metadata": {}
        }
      ],
      "execution_count": null
    },
    {
      "cell_type": "code",
      "source": [
        "import os\n",
        "\n",
        "TEST_AUDIO_DIR = \"/kaggle/input/shl-intern-hiring-assessment/dataset/audios_test\"\n",
        "test_files = [f for f in os.listdir(TEST_AUDIO_DIR) if f.endswith(\".wav\")]\n",
        "print(test_files[:5])"
      ],
      "metadata": {
        "trusted": true,
        "execution": {
          "iopub.status.busy": "2025-04-05T10:31:35.16146Z",
          "iopub.execute_input": "2025-04-05T10:31:35.161855Z",
          "iopub.status.idle": "2025-04-05T10:31:35.168791Z",
          "shell.execute_reply.started": "2025-04-05T10:31:35.161825Z",
          "shell.execute_reply": "2025-04-05T10:31:35.167789Z"
        },
        "id": "DzL1g3t9EipC",
        "outputId": "c3218c76-7d03-4966-ae7f-807d6565e440"
      },
      "outputs": [
        {
          "name": "stdout",
          "text": "['audio_885.wav', 'audio_698.wav', 'audio_1176.wav', 'audio_1215.wav', 'audio_66.wav']\n",
          "output_type": "stream"
        }
      ],
      "execution_count": null
    },
    {
      "cell_type": "code",
      "source": [
        "test_df = pd.DataFrame({'filename': test_files})"
      ],
      "metadata": {
        "trusted": true,
        "execution": {
          "iopub.status.busy": "2025-04-05T10:31:38.296367Z",
          "iopub.execute_input": "2025-04-05T10:31:38.296718Z",
          "iopub.status.idle": "2025-04-05T10:31:38.301035Z",
          "shell.execute_reply.started": "2025-04-05T10:31:38.296688Z",
          "shell.execute_reply": "2025-04-05T10:31:38.300146Z"
        },
        "id": "vjoRTHvEEipC"
      },
      "outputs": [],
      "execution_count": null
    },
    {
      "cell_type": "code",
      "source": [
        "\n",
        "X_test = generate_feature_df(test_df,TEST_AUDIO_DIR)"
      ],
      "metadata": {
        "trusted": true,
        "execution": {
          "iopub.status.busy": "2025-04-05T10:32:04.20112Z",
          "iopub.execute_input": "2025-04-05T10:32:04.20142Z",
          "iopub.status.idle": "2025-04-05T10:34:28.936357Z",
          "shell.execute_reply.started": "2025-04-05T10:32:04.201393Z",
          "shell.execute_reply": "2025-04-05T10:34:28.935438Z"
        },
        "id": "qdPldri5EipD",
        "outputId": "077f2bd1-23c9-48b3-b30f-5953dc0ef79d"
      },
      "outputs": [
        {
          "name": "stderr",
          "text": "100%|██████████| 195/195 [02:24<00:00,  1.35it/s]\n",
          "output_type": "stream"
        }
      ],
      "execution_count": null
    },
    {
      "cell_type": "code",
      "source": [
        "predictions = model.predict(X_test)\n",
        "test_df['predicted_score'] = predictions"
      ],
      "metadata": {
        "trusted": true,
        "execution": {
          "iopub.status.busy": "2025-04-05T10:34:52.471816Z",
          "iopub.execute_input": "2025-04-05T10:34:52.472115Z",
          "iopub.status.idle": "2025-04-05T10:34:52.48108Z",
          "shell.execute_reply.started": "2025-04-05T10:34:52.472091Z",
          "shell.execute_reply": "2025-04-05T10:34:52.480338Z"
        },
        "id": "IdhTdrhdEipD"
      },
      "outputs": [],
      "execution_count": null
    },
    {
      "cell_type": "code",
      "source": [
        "test_df.to_csv(\"test.csv\", index=False)"
      ],
      "metadata": {
        "trusted": true,
        "execution": {
          "iopub.status.busy": "2025-04-05T10:35:31.851122Z",
          "iopub.execute_input": "2025-04-05T10:35:31.851407Z",
          "iopub.status.idle": "2025-04-05T10:35:31.857348Z",
          "shell.execute_reply.started": "2025-04-05T10:35:31.851383Z",
          "shell.execute_reply": "2025-04-05T10:35:31.856495Z"
        },
        "id": "IiXdLyclEipD"
      },
      "outputs": [],
      "execution_count": null
    }
  ]
}