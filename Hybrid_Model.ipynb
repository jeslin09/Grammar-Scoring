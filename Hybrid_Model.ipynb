{
  "metadata": {
    "kernelspec": {
      "language": "python",
      "display_name": "Python 3",
      "name": "python3"
    },
    "language_info": {
      "name": "python",
      "version": "3.10.12",
      "mimetype": "text/x-python",
      "codemirror_mode": {
        "name": "ipython",
        "version": 3
      },
      "pygments_lexer": "ipython3",
      "nbconvert_exporter": "python",
      "file_extension": ".py"
    },
    "kaggle": {
      "accelerator": "nvidiaTeslaT4",
      "dataSources": [
        {
          "sourceId": 97919,
          "databundleVersionId": 11694977,
          "sourceType": "competition"
        }
      ],
      "dockerImageVersionId": 30919,
      "isInternetEnabled": true,
      "language": "python",
      "sourceType": "notebook",
      "isGpuEnabled": true
    },
    "colab": {
      "name": "Hybrid Model",
      "provenance": [],
      "include_colab_link": true
    }
  },
  "nbformat_minor": 0,
  "nbformat": 4,
  "cells": [
    {
      "cell_type": "markdown",
      "metadata": {
        "id": "view-in-github",
        "colab_type": "text"
      },
      "source": [
        "<a href=\"https://colab.research.google.com/github/jeslin09/Grammar-Scoring/blob/main/Hybrid_Model.ipynb\" target=\"_parent\"><img src=\"https://colab.research.google.com/assets/colab-badge.svg\" alt=\"Open In Colab\"/></a>"
      ]
    },
    {
      "source": [
        "# IMPORTANT: SOME KAGGLE DATA SOURCES ARE PRIVATE\n",
        "# RUN THIS CELL IN ORDER TO IMPORT YOUR KAGGLE DATA SOURCES.\n",
        "import kagglehub\n",
        "kagglehub.login()\n"
      ],
      "metadata": {
        "id": "jQLQ75nLROpI"
      },
      "cell_type": "code",
      "outputs": [],
      "execution_count": null
    },
    {
      "source": [
        "# IMPORTANT: RUN THIS CELL IN ORDER TO IMPORT YOUR KAGGLE DATA SOURCES,\n",
        "# THEN FEEL FREE TO DELETE THIS CELL.\n",
        "# NOTE: THIS NOTEBOOK ENVIRONMENT DIFFERS FROM KAGGLE'S PYTHON\n",
        "# ENVIRONMENT SO THERE MAY BE MISSING LIBRARIES USED BY YOUR\n",
        "# NOTEBOOK.\n",
        "\n",
        "shl_intern_hiring_assessment_path = kagglehub.competition_download('shl-intern-hiring-assessment')\n",
        "\n",
        "print('Data source import complete.')\n"
      ],
      "metadata": {
        "id": "i7HbWqcgROpJ"
      },
      "cell_type": "code",
      "outputs": [],
      "execution_count": null
    },
    {
      "cell_type": "code",
      "source": [
        "# This Python 3 environment comes with many helpful analytics libraries installed\n",
        "# It is defined by the kaggle/python Docker image: https://github.com/kaggle/docker-python\n",
        "# For example, here's several helpful packages to load\n",
        "\n",
        "import numpy as np # linear algebra\n",
        "import pandas as pd # data processing, CSV file I/O (e.g. pd.read_csv)\n",
        "\n",
        "# Input data files are available in the read-only \"../input/\" directory\n",
        "# For example, running this (by clicking run or pressing Shift+Enter) will list all files under the input directory\n",
        "\n",
        "import os\n",
        "for dirname, _, filenames in os.walk('/kaggle/input'):\n",
        "    for filename in filenames:\n",
        "        print(os.path.join(dirname, filename))\n",
        "\n",
        "# You can write up to 20GB to the current directory (/kaggle/working/) that gets preserved as output when you create a version using \"Save & Run All\"\n",
        "# You can also write temporary files to /kaggle/temp/, but they won't be saved outside of the current session"
      ],
      "metadata": {
        "_uuid": "8f2839f25d086af736a60e9eeb907d3b93b6e0e5",
        "_cell_guid": "b1076dfc-b9ad-4769-8c92-a6c4dae69d19",
        "trusted": true,
        "execution": {
          "iopub.status.busy": "2025-04-07T12:19:10.855456Z",
          "iopub.execute_input": "2025-04-07T12:19:10.855773Z",
          "iopub.status.idle": "2025-04-07T12:19:12.94263Z",
          "shell.execute_reply.started": "2025-04-07T12:19:10.855741Z",
          "shell.execute_reply": "2025-04-07T12:19:12.941707Z"
        },
        "id": "ptzWlQwcROpK",
        "outputId": "13d01e6a-2b5d-4c3c-e944-48ceb8133698"
      },
      "outputs": [
        {
          "name": "stdout",
          "text": "/kaggle/input/shl-intern-hiring-assessment/dataset/sample_submission.csv\n/kaggle/input/shl-intern-hiring-assessment/dataset/train.csv\n/kaggle/input/shl-intern-hiring-assessment/dataset/test.csv\n/kaggle/input/shl-intern-hiring-assessment/dataset/audios_test/audio_885.wav\n/kaggle/input/shl-intern-hiring-assessment/dataset/audios_test/audio_698.wav\n/kaggle/input/shl-intern-hiring-assessment/dataset/audios_test/audio_1176.wav\n/kaggle/input/shl-intern-hiring-assessment/dataset/audios_test/audio_1215.wav\n/kaggle/input/shl-intern-hiring-assessment/dataset/audios_test/audio_66.wav\n/kaggle/input/shl-intern-hiring-assessment/dataset/audios_test/audio_386.wav\n/kaggle/input/shl-intern-hiring-assessment/dataset/audios_test/audio_1026.wav\n/kaggle/input/shl-intern-hiring-assessment/dataset/audios_test/audio_330.wav\n/kaggle/input/shl-intern-hiring-assessment/dataset/audios_test/audio_72.wav\n/kaggle/input/shl-intern-hiring-assessment/dataset/audios_test/audio_858.wav\n/kaggle/input/shl-intern-hiring-assessment/dataset/audios_test/audio_107.wav\n/kaggle/input/shl-intern-hiring-assessment/dataset/audios_test/audio_820.wav\n/kaggle/input/shl-intern-hiring-assessment/dataset/audios_test/audio_300.wav\n/kaggle/input/shl-intern-hiring-assessment/dataset/audios_test/audio_435.wav\n/kaggle/input/shl-intern-hiring-assessment/dataset/audios_test/audio_550.wav\n/kaggle/input/shl-intern-hiring-assessment/dataset/audios_test/audio_841.wav\n/kaggle/input/shl-intern-hiring-assessment/dataset/audios_test/audio_641.wav\n/kaggle/input/shl-intern-hiring-assessment/dataset/audios_test/audio_290.wav\n/kaggle/input/shl-intern-hiring-assessment/dataset/audios_test/audio_401.wav\n/kaggle/input/shl-intern-hiring-assessment/dataset/audios_test/audio_321.wav\n/kaggle/input/shl-intern-hiring-assessment/dataset/audios_test/audio_20.wav\n/kaggle/input/shl-intern-hiring-assessment/dataset/audios_test/audio_348.wav\n/kaggle/input/shl-intern-hiring-assessment/dataset/audios_test/audio_500.wav\n/kaggle/input/shl-intern-hiring-assessment/dataset/audios_test/audio_735.wav\n/kaggle/input/shl-intern-hiring-assessment/dataset/audios_test/audio_888.wav\n/kaggle/input/shl-intern-hiring-assessment/dataset/audios_test/audio_959.wav\n/kaggle/input/shl-intern-hiring-assessment/dataset/audios_test/audio_276.wav\n/kaggle/input/shl-intern-hiring-assessment/dataset/audios_test/audio_1323.wav\n/kaggle/input/shl-intern-hiring-assessment/dataset/audios_test/audio_1089.wav\n/kaggle/input/shl-intern-hiring-assessment/dataset/audios_test/audio_1289.wav\n/kaggle/input/shl-intern-hiring-assessment/dataset/audios_test/audio_29.wav\n/kaggle/input/shl-intern-hiring-assessment/dataset/audios_test/audio_676.wav\n/kaggle/input/shl-intern-hiring-assessment/dataset/audios_test/audio_811.wav\n/kaggle/input/shl-intern-hiring-assessment/dataset/audios_test/audio_762.wav\n/kaggle/input/shl-intern-hiring-assessment/dataset/audios_test/audio_1183.wav\n/kaggle/input/shl-intern-hiring-assessment/dataset/audios_test/audio_1297.wav\n/kaggle/input/shl-intern-hiring-assessment/dataset/audios_test/audio_709.wav\n/kaggle/input/shl-intern-hiring-assessment/dataset/audios_test/audio_281.wav\n/kaggle/input/shl-intern-hiring-assessment/dataset/audios_test/audio_308.wav\n/kaggle/input/shl-intern-hiring-assessment/dataset/audios_test/audio_1054.wav\n/kaggle/input/shl-intern-hiring-assessment/dataset/audios_test/audio_662.wav\n/kaggle/input/shl-intern-hiring-assessment/dataset/audios_test/audio_525.wav\n/kaggle/input/shl-intern-hiring-assessment/dataset/audios_test/audio_633.wav\n/kaggle/input/shl-intern-hiring-assessment/dataset/audios_test/audio_274.wav\n/kaggle/input/shl-intern-hiring-assessment/dataset/audios_test/audio_922.wav\n/kaggle/input/shl-intern-hiring-assessment/dataset/audios_test/audio_683.wav\n/kaggle/input/shl-intern-hiring-assessment/dataset/audios_test/audio_1275.wav\n/kaggle/input/shl-intern-hiring-assessment/dataset/audios_test/audio_541.wav\n/kaggle/input/shl-intern-hiring-assessment/dataset/audios_test/audio_113.wav\n/kaggle/input/shl-intern-hiring-assessment/dataset/audios_test/audio_665.wav\n/kaggle/input/shl-intern-hiring-assessment/dataset/audios_test/audio_543.wav\n/kaggle/input/shl-intern-hiring-assessment/dataset/audios_test/audio_1012.wav\n/kaggle/input/shl-intern-hiring-assessment/dataset/audios_test/audio_759.wav\n/kaggle/input/shl-intern-hiring-assessment/dataset/audios_test/audio_225.wav\n/kaggle/input/shl-intern-hiring-assessment/dataset/audios_test/audio_644.wav\n/kaggle/input/shl-intern-hiring-assessment/dataset/audios_test/audio_1035.wav\n/kaggle/input/shl-intern-hiring-assessment/dataset/audios_test/audio_1159.wav\n/kaggle/input/shl-intern-hiring-assessment/dataset/audios_test/audio_1179.wav\n/kaggle/input/shl-intern-hiring-assessment/dataset/audios_test/audio_1048.wav\n/kaggle/input/shl-intern-hiring-assessment/dataset/audios_test/audio_499.wav\n/kaggle/input/shl-intern-hiring-assessment/dataset/audios_test/audio_1123.wav\n/kaggle/input/shl-intern-hiring-assessment/dataset/audios_test/audio_1116.wav\n/kaggle/input/shl-intern-hiring-assessment/dataset/audios_test/audio_521.wav\n/kaggle/input/shl-intern-hiring-assessment/dataset/audios_test/audio_1013.wav\n/kaggle/input/shl-intern-hiring-assessment/dataset/audios_test/audio_198.wav\n/kaggle/input/shl-intern-hiring-assessment/dataset/audios_test/audio_1278.wav\n/kaggle/input/shl-intern-hiring-assessment/dataset/audios_test/audio_4.wav\n/kaggle/input/shl-intern-hiring-assessment/dataset/audios_test/audio_165.wav\n/kaggle/input/shl-intern-hiring-assessment/dataset/audios_test/audio_19.wav\n/kaggle/input/shl-intern-hiring-assessment/dataset/audios_test/audio_261.wav\n/kaggle/input/shl-intern-hiring-assessment/dataset/audios_test/audio_998.wav\n/kaggle/input/shl-intern-hiring-assessment/dataset/audios_test/audio_89.wav\n/kaggle/input/shl-intern-hiring-assessment/dataset/audios_test/audio_1280.wav\n/kaggle/input/shl-intern-hiring-assessment/dataset/audios_test/audio_971.wav\n/kaggle/input/shl-intern-hiring-assessment/dataset/audios_test/audio_322.wav\n/kaggle/input/shl-intern-hiring-assessment/dataset/audios_test/audio_1058.wav\n/kaggle/input/shl-intern-hiring-assessment/dataset/audios_test/audio_1068.wav\n/kaggle/input/shl-intern-hiring-assessment/dataset/audios_test/audio_719.wav\n/kaggle/input/shl-intern-hiring-assessment/dataset/audios_test/audio_1205.wav\n/kaggle/input/shl-intern-hiring-assessment/dataset/audios_test/audio_1315.wav\n/kaggle/input/shl-intern-hiring-assessment/dataset/audios_test/audio_1061.wav\n/kaggle/input/shl-intern-hiring-assessment/dataset/audios_test/audio_1091.wav\n/kaggle/input/shl-intern-hiring-assessment/dataset/audios_test/audio_75.wav\n/kaggle/input/shl-intern-hiring-assessment/dataset/audios_test/audio_217.wav\n/kaggle/input/shl-intern-hiring-assessment/dataset/audios_test/audio_95.wav\n/kaggle/input/shl-intern-hiring-assessment/dataset/audios_test/audio_159.wav\n/kaggle/input/shl-intern-hiring-assessment/dataset/audios_test/audio_545.wav\n/kaggle/input/shl-intern-hiring-assessment/dataset/audios_test/audio_379.wav\n/kaggle/input/shl-intern-hiring-assessment/dataset/audios_test/audio_137.wav\n/kaggle/input/shl-intern-hiring-assessment/dataset/audios_test/audio_1124.wav\n/kaggle/input/shl-intern-hiring-assessment/dataset/audios_test/audio_177.wav\n/kaggle/input/shl-intern-hiring-assessment/dataset/audios_test/audio_180.wav\n/kaggle/input/shl-intern-hiring-assessment/dataset/audios_test/audio_726.wav\n/kaggle/input/shl-intern-hiring-assessment/dataset/audios_test/audio_1081.wav\n/kaggle/input/shl-intern-hiring-assessment/dataset/audios_test/audio_519.wav\n/kaggle/input/shl-intern-hiring-assessment/dataset/audios_test/audio_285.wav\n/kaggle/input/shl-intern-hiring-assessment/dataset/audios_test/audio_569.wav\n/kaggle/input/shl-intern-hiring-assessment/dataset/audios_test/audio_800.wav\n/kaggle/input/shl-intern-hiring-assessment/dataset/audios_test/audio_218.wav\n/kaggle/input/shl-intern-hiring-assessment/dataset/audios_test/audio_148.wav\n/kaggle/input/shl-intern-hiring-assessment/dataset/audios_test/audio_408.wav\n/kaggle/input/shl-intern-hiring-assessment/dataset/audios_test/audio_1122.wav\n/kaggle/input/shl-intern-hiring-assessment/dataset/audios_test/audio_884.wav\n/kaggle/input/shl-intern-hiring-assessment/dataset/audios_test/audio_488.wav\n/kaggle/input/shl-intern-hiring-assessment/dataset/audios_test/audio_733.wav\n/kaggle/input/shl-intern-hiring-assessment/dataset/audios_test/audio_235.wav\n/kaggle/input/shl-intern-hiring-assessment/dataset/audios_test/audio_286.wav\n/kaggle/input/shl-intern-hiring-assessment/dataset/audios_test/audio_263.wav\n/kaggle/input/shl-intern-hiring-assessment/dataset/audios_test/audio_1022.wav\n/kaggle/input/shl-intern-hiring-assessment/dataset/audios_test/audio_656.wav\n/kaggle/input/shl-intern-hiring-assessment/dataset/audios_test/audio_1101.wav\n/kaggle/input/shl-intern-hiring-assessment/dataset/audios_test/audio_1286.wav\n/kaggle/input/shl-intern-hiring-assessment/dataset/audios_test/audio_287.wav\n/kaggle/input/shl-intern-hiring-assessment/dataset/audios_test/audio_1293.wav\n/kaggle/input/shl-intern-hiring-assessment/dataset/audios_test/audio_692.wav\n/kaggle/input/shl-intern-hiring-assessment/dataset/audios_test/audio_1190.wav\n/kaggle/input/shl-intern-hiring-assessment/dataset/audios_test/audio_1173.wav\n/kaggle/input/shl-intern-hiring-assessment/dataset/audios_test/audio_388.wav\n/kaggle/input/shl-intern-hiring-assessment/dataset/audios_test/audio_767.wav\n/kaggle/input/shl-intern-hiring-assessment/dataset/audios_test/audio_1242.wav\n/kaggle/input/shl-intern-hiring-assessment/dataset/audios_test/audio_1311.wav\n/kaggle/input/shl-intern-hiring-assessment/dataset/audios_test/audio_540.wav\n/kaggle/input/shl-intern-hiring-assessment/dataset/audios_test/audio_932.wav\n/kaggle/input/shl-intern-hiring-assessment/dataset/audios_test/audio_448.wav\n/kaggle/input/shl-intern-hiring-assessment/dataset/audios_test/audio_949.wav\n/kaggle/input/shl-intern-hiring-assessment/dataset/audios_test/audio_908.wav\n/kaggle/input/shl-intern-hiring-assessment/dataset/audios_test/audio_158.wav\n/kaggle/input/shl-intern-hiring-assessment/dataset/audios_test/audio_172.wav\n/kaggle/input/shl-intern-hiring-assessment/dataset/audios_test/audio_958.wav\n/kaggle/input/shl-intern-hiring-assessment/dataset/audios_test/audio_805.wav\n/kaggle/input/shl-intern-hiring-assessment/dataset/audios_test/audio_746.wav\n/kaggle/input/shl-intern-hiring-assessment/dataset/audios_test/audio_221.wav\n/kaggle/input/shl-intern-hiring-assessment/dataset/audios_test/audio_391.wav\n/kaggle/input/shl-intern-hiring-assessment/dataset/audios_test/audio_21.wav\n/kaggle/input/shl-intern-hiring-assessment/dataset/audios_test/audio_1169.wav\n/kaggle/input/shl-intern-hiring-assessment/dataset/audios_test/audio_68.wav\n/kaggle/input/shl-intern-hiring-assessment/dataset/audios_test/audio_529.wav\n/kaggle/input/shl-intern-hiring-assessment/dataset/audios_test/audio_138.wav\n/kaggle/input/shl-intern-hiring-assessment/dataset/audios_test/audio_1195.wav\n/kaggle/input/shl-intern-hiring-assessment/dataset/audios_test/audio_580.wav\n/kaggle/input/shl-intern-hiring-assessment/dataset/audios_test/audio_360.wav\n/kaggle/input/shl-intern-hiring-assessment/dataset/audios_test/audio_1033.wav\n/kaggle/input/shl-intern-hiring-assessment/dataset/audios_test/audio_1240.wav\n/kaggle/input/shl-intern-hiring-assessment/dataset/audios_test/audio_10.wav\n/kaggle/input/shl-intern-hiring-assessment/dataset/audios_test/audio_48.wav\n/kaggle/input/shl-intern-hiring-assessment/dataset/audios_test/audio_1193.wav\n/kaggle/input/shl-intern-hiring-assessment/dataset/audios_test/audio_1217.wav\n/kaggle/input/shl-intern-hiring-assessment/dataset/audios_test/audio_1292.wav\n/kaggle/input/shl-intern-hiring-assessment/dataset/audios_test/audio_282.wav\n/kaggle/input/shl-intern-hiring-assessment/dataset/audios_test/audio_599.wav\n/kaggle/input/shl-intern-hiring-assessment/dataset/audios_test/audio_153.wav\n/kaggle/input/shl-intern-hiring-assessment/dataset/audios_test/audio_564.wav\n/kaggle/input/shl-intern-hiring-assessment/dataset/audios_test/audio_1019.wav\n/kaggle/input/shl-intern-hiring-assessment/dataset/audios_test/audio_196.wav\n/kaggle/input/shl-intern-hiring-assessment/dataset/audios_test/audio_1115.wav\n/kaggle/input/shl-intern-hiring-assessment/dataset/audios_test/audio_103.wav\n/kaggle/input/shl-intern-hiring-assessment/dataset/audios_test/audio_1291.wav\n/kaggle/input/shl-intern-hiring-assessment/dataset/audios_test/audio_690.wav\n/kaggle/input/shl-intern-hiring-assessment/dataset/audios_test/audio_706.wav\n/kaggle/input/shl-intern-hiring-assessment/dataset/audios_test/audio_1214.wav\n/kaggle/input/shl-intern-hiring-assessment/dataset/audios_test/audio_1138.wav\n/kaggle/input/shl-intern-hiring-assessment/dataset/audios_test/audio_831.wav\n/kaggle/input/shl-intern-hiring-assessment/dataset/audios_test/audio_857.wav\n/kaggle/input/shl-intern-hiring-assessment/dataset/audios_test/audio_1267.wav\n/kaggle/input/shl-intern-hiring-assessment/dataset/audios_test/audio_135.wav\n/kaggle/input/shl-intern-hiring-assessment/dataset/audios_test/audio_433.wav\n/kaggle/input/shl-intern-hiring-assessment/dataset/audios_test/audio_556.wav\n/kaggle/input/shl-intern-hiring-assessment/dataset/audios_test/audio_306.wav\n/kaggle/input/shl-intern-hiring-assessment/dataset/audios_test/audio_109.wav\n/kaggle/input/shl-intern-hiring-assessment/dataset/audios_test/audio_1256.wav\n/kaggle/input/shl-intern-hiring-assessment/dataset/audios_test/audio_34.wav\n/kaggle/input/shl-intern-hiring-assessment/dataset/audios_test/audio_572.wav\n/kaggle/input/shl-intern-hiring-assessment/dataset/audios_test/audio_487.wav\n/kaggle/input/shl-intern-hiring-assessment/dataset/audios_test/audio_554.wav\n/kaggle/input/shl-intern-hiring-assessment/dataset/audios_test/audio_512.wav\n/kaggle/input/shl-intern-hiring-assessment/dataset/audios_test/audio_1317.wav\n/kaggle/input/shl-intern-hiring-assessment/dataset/audios_test/audio_179.wav\n/kaggle/input/shl-intern-hiring-assessment/dataset/audios_test/audio_604.wav\n/kaggle/input/shl-intern-hiring-assessment/dataset/audios_test/audio_882.wav\n/kaggle/input/shl-intern-hiring-assessment/dataset/audios_test/audio_437.wav\n/kaggle/input/shl-intern-hiring-assessment/dataset/audios_test/audio_920.wav\n/kaggle/input/shl-intern-hiring-assessment/dataset/audios_test/audio_546.wav\n/kaggle/input/shl-intern-hiring-assessment/dataset/audios_test/audio_1178.wav\n/kaggle/input/shl-intern-hiring-assessment/dataset/audios_test/audio_702.wav\n/kaggle/input/shl-intern-hiring-assessment/dataset/audios_test/audio_1243.wav\n/kaggle/input/shl-intern-hiring-assessment/dataset/audios_test/audio_394.wav\n/kaggle/input/shl-intern-hiring-assessment/dataset/audios_test/audio_428.wav\n/kaggle/input/shl-intern-hiring-assessment/dataset/audios_test/audio_1321.wav\n/kaggle/input/shl-intern-hiring-assessment/dataset/audios_test/audio_422.wav\n/kaggle/input/shl-intern-hiring-assessment/dataset/audios_test/audio_713.wav\n/kaggle/input/shl-intern-hiring-assessment/dataset/audios_test/audio_320.wav\n/kaggle/input/shl-intern-hiring-assessment/dataset/audios_test/audio_770.wav\n/kaggle/input/shl-intern-hiring-assessment/dataset/audios_test/audio_1166.wav\n/kaggle/input/shl-intern-hiring-assessment/dataset/audios_test/audio_151.wav\n/kaggle/input/shl-intern-hiring-assessment/dataset/audios_test/audio_897.wav\n/kaggle/input/shl-intern-hiring-assessment/dataset/audios_train/audio_90.wav\n/kaggle/input/shl-intern-hiring-assessment/dataset/audios_train/audio_581.wav\n/kaggle/input/shl-intern-hiring-assessment/dataset/audios_train/audio_77.wav\n/kaggle/input/shl-intern-hiring-assessment/dataset/audios_train/audio_817.wav\n/kaggle/input/shl-intern-hiring-assessment/dataset/audios_train/audio_694.wav\n/kaggle/input/shl-intern-hiring-assessment/dataset/audios_train/audio_1262.wav\n/kaggle/input/shl-intern-hiring-assessment/dataset/audios_train/audio_237.wav\n/kaggle/input/shl-intern-hiring-assessment/dataset/audios_train/audio_765.wav\n/kaggle/input/shl-intern-hiring-assessment/dataset/audios_train/audio_1164.wav\n/kaggle/input/shl-intern-hiring-assessment/dataset/audios_train/audio_1251.wav\n/kaggle/input/shl-intern-hiring-assessment/dataset/audios_train/audio_1032.wav\n/kaggle/input/shl-intern-hiring-assessment/dataset/audios_train/audio_688.wav\n/kaggle/input/shl-intern-hiring-assessment/dataset/audios_train/audio_886.wav\n/kaggle/input/shl-intern-hiring-assessment/dataset/audios_train/audio_1129.wav\n/kaggle/input/shl-intern-hiring-assessment/dataset/audios_train/audio_464.wav\n/kaggle/input/shl-intern-hiring-assessment/dataset/audios_train/audio_1040.wav\n/kaggle/input/shl-intern-hiring-assessment/dataset/audios_train/audio_711.wav\n/kaggle/input/shl-intern-hiring-assessment/dataset/audios_train/audio_853.wav\n/kaggle/input/shl-intern-hiring-assessment/dataset/audios_train/audio_436.wav\n/kaggle/input/shl-intern-hiring-assessment/dataset/audios_train/audio_538.wav\n/kaggle/input/shl-intern-hiring-assessment/dataset/audios_train/audio_859.wav\n/kaggle/input/shl-intern-hiring-assessment/dataset/audios_train/audio_547.wav\n/kaggle/input/shl-intern-hiring-assessment/dataset/audios_train/audio_1266.wav\n/kaggle/input/shl-intern-hiring-assessment/dataset/audios_train/audio_919.wav\n/kaggle/input/shl-intern-hiring-assessment/dataset/audios_train/audio_1036.wav\n/kaggle/input/shl-intern-hiring-assessment/dataset/audios_train/audio_796.wav\n/kaggle/input/shl-intern-hiring-assessment/dataset/audios_train/audio_994.wav\n/kaggle/input/shl-intern-hiring-assessment/dataset/audios_train/audio_760.wav\n/kaggle/input/shl-intern-hiring-assessment/dataset/audios_train/audio_315.wav\n/kaggle/input/shl-intern-hiring-assessment/dataset/audios_train/audio_1028.wav\n/kaggle/input/shl-intern-hiring-assessment/dataset/audios_train/audio_55.wav\n/kaggle/input/shl-intern-hiring-assessment/dataset/audios_train/audio_1284.wav\n/kaggle/input/shl-intern-hiring-assessment/dataset/audios_train/audio_950.wav\n/kaggle/input/shl-intern-hiring-assessment/dataset/audios_train/audio_256.wav\n/kaggle/input/shl-intern-hiring-assessment/dataset/audios_train/audio_359.wav\n/kaggle/input/shl-intern-hiring-assessment/dataset/audios_train/audio_462.wav\n/kaggle/input/shl-intern-hiring-assessment/dataset/audios_train/audio_44.wav\n/kaggle/input/shl-intern-hiring-assessment/dataset/audios_train/audio_753.wav\n/kaggle/input/shl-intern-hiring-assessment/dataset/audios_train/audio_813.wav\n/kaggle/input/shl-intern-hiring-assessment/dataset/audios_train/audio_7.wav\n/kaggle/input/shl-intern-hiring-assessment/dataset/audios_train/audio_1100.wav\n/kaggle/input/shl-intern-hiring-assessment/dataset/audios_train/audio_1131.wav\n/kaggle/input/shl-intern-hiring-assessment/dataset/audios_train/audio_119.wav\n/kaggle/input/shl-intern-hiring-assessment/dataset/audios_train/audio_59.wav\n/kaggle/input/shl-intern-hiring-assessment/dataset/audios_train/audio_802.wav\n/kaggle/input/shl-intern-hiring-assessment/dataset/audios_train/audio_518.wav\n/kaggle/input/shl-intern-hiring-assessment/dataset/audios_train/audio_12.wav\n/kaggle/input/shl-intern-hiring-assessment/dataset/audios_train/audio_591.wav\n/kaggle/input/shl-intern-hiring-assessment/dataset/audios_train/audio_536.wav\n/kaggle/input/shl-intern-hiring-assessment/dataset/audios_train/audio_1082.wav\n/kaggle/input/shl-intern-hiring-assessment/dataset/audios_train/audio_404.wav\n/kaggle/input/shl-intern-hiring-assessment/dataset/audios_train/audio_254.wav\n/kaggle/input/shl-intern-hiring-assessment/dataset/audios_train/audio_990.wav\n/kaggle/input/shl-intern-hiring-assessment/dataset/audios_train/audio_513.wav\n/kaggle/input/shl-intern-hiring-assessment/dataset/audios_train/audio_653.wav\n/kaggle/input/shl-intern-hiring-assessment/dataset/audios_train/audio_1177.wav\n/kaggle/input/shl-intern-hiring-assessment/dataset/audios_train/audio_188.wav\n/kaggle/input/shl-intern-hiring-assessment/dataset/audios_train/audio_539.wav\n/kaggle/input/shl-intern-hiring-assessment/dataset/audios_train/audio_289.wav\n/kaggle/input/shl-intern-hiring-assessment/dataset/audios_train/audio_778.wav\n/kaggle/input/shl-intern-hiring-assessment/dataset/audios_train/audio_1210.wav\n/kaggle/input/shl-intern-hiring-assessment/dataset/audios_train/audio_946.wav\n/kaggle/input/shl-intern-hiring-assessment/dataset/audios_train/audio_67.wav\n/kaggle/input/shl-intern-hiring-assessment/dataset/audios_train/audio_186.wav\n/kaggle/input/shl-intern-hiring-assessment/dataset/audios_train/audio_600.wav\n/kaggle/input/shl-intern-hiring-assessment/dataset/audios_train/audio_1277.wav\n/kaggle/input/shl-intern-hiring-assessment/dataset/audios_train/audio_291.wav\n/kaggle/input/shl-intern-hiring-assessment/dataset/audios_train/audio_602.wav\n/kaggle/input/shl-intern-hiring-assessment/dataset/audios_train/audio_1150.wav\n/kaggle/input/shl-intern-hiring-assessment/dataset/audios_train/audio_1118.wav\n/kaggle/input/shl-intern-hiring-assessment/dataset/audios_train/audio_1106.wav\n/kaggle/input/shl-intern-hiring-assessment/dataset/audios_train/audio_1312.wav\n/kaggle/input/shl-intern-hiring-assessment/dataset/audios_train/audio_495.wav\n/kaggle/input/shl-intern-hiring-assessment/dataset/audios_train/audio_265.wav\n/kaggle/input/shl-intern-hiring-assessment/dataset/audios_train/audio_558.wav\n/kaggle/input/shl-intern-hiring-assessment/dataset/audios_train/audio_82.wav\n/kaggle/input/shl-intern-hiring-assessment/dataset/audios_train/audio_61.wav\n/kaggle/input/shl-intern-hiring-assessment/dataset/audios_train/audio_964.wav\n/kaggle/input/shl-intern-hiring-assessment/dataset/audios_train/audio_526.wav\n/kaggle/input/shl-intern-hiring-assessment/dataset/audios_train/audio_1285.wav\n/kaggle/input/shl-intern-hiring-assessment/dataset/audios_train/audio_32.wav\n/kaggle/input/shl-intern-hiring-assessment/dataset/audios_train/audio_535.wav\n/kaggle/input/shl-intern-hiring-assessment/dataset/audios_train/audio_110.wav\n/kaggle/input/shl-intern-hiring-assessment/dataset/audios_train/audio_1172.wav\n/kaggle/input/shl-intern-hiring-assessment/dataset/audios_train/audio_567.wav\n/kaggle/input/shl-intern-hiring-assessment/dataset/audios_train/audio_1325.wav\n/kaggle/input/shl-intern-hiring-assessment/dataset/audios_train/audio_374.wav\n/kaggle/input/shl-intern-hiring-assessment/dataset/audios_train/audio_944.wav\n/kaggle/input/shl-intern-hiring-assessment/dataset/audios_train/audio_327.wav\n/kaggle/input/shl-intern-hiring-assessment/dataset/audios_train/audio_120.wav\n/kaggle/input/shl-intern-hiring-assessment/dataset/audios_train/audio_297.wav\n/kaggle/input/shl-intern-hiring-assessment/dataset/audios_train/audio_1212.wav\n/kaggle/input/shl-intern-hiring-assessment/dataset/audios_train/audio_899.wav\n/kaggle/input/shl-intern-hiring-assessment/dataset/audios_train/audio_516.wav\n/kaggle/input/shl-intern-hiring-assessment/dataset/audios_train/audio_441.wav\n/kaggle/input/shl-intern-hiring-assessment/dataset/audios_train/audio_848.wav\n/kaggle/input/shl-intern-hiring-assessment/dataset/audios_train/audio_1103.wav\n/kaggle/input/shl-intern-hiring-assessment/dataset/audios_train/audio_346.wav\n/kaggle/input/shl-intern-hiring-assessment/dataset/audios_train/audio_446.wav\n/kaggle/input/shl-intern-hiring-assessment/dataset/audios_train/audio_104.wav\n/kaggle/input/shl-intern-hiring-assessment/dataset/audios_train/audio_1236.wav\n/kaggle/input/shl-intern-hiring-assessment/dataset/audios_train/audio_957.wav\n/kaggle/input/shl-intern-hiring-assessment/dataset/audios_train/audio_776.wav\n/kaggle/input/shl-intern-hiring-assessment/dataset/audios_train/audio_1163.wav\n/kaggle/input/shl-intern-hiring-assessment/dataset/audios_train/audio_642.wav\n/kaggle/input/shl-intern-hiring-assessment/dataset/audios_train/audio_479.wav\n/kaggle/input/shl-intern-hiring-assessment/dataset/audios_train/audio_940.wav\n/kaggle/input/shl-intern-hiring-assessment/dataset/audios_train/audio_1171.wav\n/kaggle/input/shl-intern-hiring-assessment/dataset/audios_train/audio_563.wav\n/kaggle/input/shl-intern-hiring-assessment/dataset/audios_train/audio_773.wav\n/kaggle/input/shl-intern-hiring-assessment/dataset/audios_train/audio_71.wav\n/kaggle/input/shl-intern-hiring-assessment/dataset/audios_train/audio_76.wav\n/kaggle/input/shl-intern-hiring-assessment/dataset/audios_train/audio_905.wav\n/kaggle/input/shl-intern-hiring-assessment/dataset/audios_train/audio_925.wav\n/kaggle/input/shl-intern-hiring-assessment/dataset/audios_train/audio_205.wav\n/kaggle/input/shl-intern-hiring-assessment/dataset/audios_train/audio_345.wav\n/kaggle/input/shl-intern-hiring-assessment/dataset/audios_train/audio_661.wav\n/kaggle/input/shl-intern-hiring-assessment/dataset/audios_train/audio_102.wav\n/kaggle/input/shl-intern-hiring-assessment/dataset/audios_train/audio_1136.wav\n/kaggle/input/shl-intern-hiring-assessment/dataset/audios_train/audio_1304.wav\n/kaggle/input/shl-intern-hiring-assessment/dataset/audios_train/audio_399.wav\n/kaggle/input/shl-intern-hiring-assessment/dataset/audios_train/audio_1126.wav\n/kaggle/input/shl-intern-hiring-assessment/dataset/audios_train/audio_1024.wav\n/kaggle/input/shl-intern-hiring-assessment/dataset/audios_train/audio_45.wav\n/kaggle/input/shl-intern-hiring-assessment/dataset/audios_train/audio_812.wav\n/kaggle/input/shl-intern-hiring-assessment/dataset/audios_train/audio_860.wav\n/kaggle/input/shl-intern-hiring-assessment/dataset/audios_train/audio_942.wav\n/kaggle/input/shl-intern-hiring-assessment/dataset/audios_train/audio_414.wav\n/kaggle/input/shl-intern-hiring-assessment/dataset/audios_train/audio_725.wav\n/kaggle/input/shl-intern-hiring-assessment/dataset/audios_train/audio_1245.wav\n/kaggle/input/shl-intern-hiring-assessment/dataset/audios_train/audio_275.wav\n/kaggle/input/shl-intern-hiring-assessment/dataset/audios_train/audio_590.wav\n/kaggle/input/shl-intern-hiring-assessment/dataset/audios_train/audio_955.wav\n/kaggle/input/shl-intern-hiring-assessment/dataset/audios_train/audio_478.wav\n/kaggle/input/shl-intern-hiring-assessment/dataset/audios_train/audio_779.wav\n/kaggle/input/shl-intern-hiring-assessment/dataset/audios_train/audio_2.wav\n/kaggle/input/shl-intern-hiring-assessment/dataset/audios_train/audio_447.wav\n/kaggle/input/shl-intern-hiring-assessment/dataset/audios_train/audio_807.wav\n/kaggle/input/shl-intern-hiring-assessment/dataset/audios_train/audio_223.wav\n/kaggle/input/shl-intern-hiring-assessment/dataset/audios_train/audio_1268.wav\n/kaggle/input/shl-intern-hiring-assessment/dataset/audios_train/audio_118.wav\n/kaggle/input/shl-intern-hiring-assessment/dataset/audios_train/audio_1202.wav\n/kaggle/input/shl-intern-hiring-assessment/dataset/audios_train/audio_549.wav\n/kaggle/input/shl-intern-hiring-assessment/dataset/audios_train/audio_1069.wav\n/kaggle/input/shl-intern-hiring-assessment/dataset/audios_train/audio_366.wav\n/kaggle/input/shl-intern-hiring-assessment/dataset/audios_train/audio_743.wav\n/kaggle/input/shl-intern-hiring-assessment/dataset/audios_train/audio_210.wav\n/kaggle/input/shl-intern-hiring-assessment/dataset/audios_train/audio_874.wav\n/kaggle/input/shl-intern-hiring-assessment/dataset/audios_train/audio_705.wav\n/kaggle/input/shl-intern-hiring-assessment/dataset/audios_train/audio_952.wav\n/kaggle/input/shl-intern-hiring-assessment/dataset/audios_train/audio_836.wav\n/kaggle/input/shl-intern-hiring-assessment/dataset/audios_train/audio_396.wav\n/kaggle/input/shl-intern-hiring-assessment/dataset/audios_train/audio_1239.wav\n/kaggle/input/shl-intern-hiring-assessment/dataset/audios_train/audio_909.wav\n/kaggle/input/shl-intern-hiring-assessment/dataset/audios_train/audio_583.wav\n/kaggle/input/shl-intern-hiring-assessment/dataset/audios_train/audio_1114.wav\n/kaggle/input/shl-intern-hiring-assessment/dataset/audios_train/audio_771.wav\n/kaggle/input/shl-intern-hiring-assessment/dataset/audios_train/audio_989.wav\n/kaggle/input/shl-intern-hiring-assessment/dataset/audios_train/audio_1182.wav\n/kaggle/input/shl-intern-hiring-assessment/dataset/audios_train/audio_865.wav\n/kaggle/input/shl-intern-hiring-assessment/dataset/audios_train/audio_278.wav\n/kaggle/input/shl-intern-hiring-assessment/dataset/audios_train/audio_468.wav\n/kaggle/input/shl-intern-hiring-assessment/dataset/audios_train/audio_930.wav\n/kaggle/input/shl-intern-hiring-assessment/dataset/audios_train/audio_314.wav\n/kaggle/input/shl-intern-hiring-assessment/dataset/audios_train/audio_697.wav\n/kaggle/input/shl-intern-hiring-assessment/dataset/audios_train/audio_722.wav\n/kaggle/input/shl-intern-hiring-assessment/dataset/audios_train/audio_674.wav\n/kaggle/input/shl-intern-hiring-assessment/dataset/audios_train/audio_1104.wav\n/kaggle/input/shl-intern-hiring-assessment/dataset/audios_train/audio_1134.wav\n/kaggle/input/shl-intern-hiring-assessment/dataset/audios_train/audio_1043.wav\n/kaggle/input/shl-intern-hiring-assessment/dataset/audios_train/audio_609.wav\n/kaggle/input/shl-intern-hiring-assessment/dataset/audios_train/audio_1329.wav\n/kaggle/input/shl-intern-hiring-assessment/dataset/audios_train/audio_1153.wav\n/kaggle/input/shl-intern-hiring-assessment/dataset/audios_train/audio_23.wav\n/kaggle/input/shl-intern-hiring-assessment/dataset/audios_train/audio_542.wav\n/kaggle/input/shl-intern-hiring-assessment/dataset/audios_train/audio_592.wav\n/kaggle/input/shl-intern-hiring-assessment/dataset/audios_train/audio_954.wav\n/kaggle/input/shl-intern-hiring-assessment/dataset/audios_train/audio_916.wav\n/kaggle/input/shl-intern-hiring-assessment/dataset/audios_train/audio_244.wav\n/kaggle/input/shl-intern-hiring-assessment/dataset/audios_train/audio_387.wav\n/kaggle/input/shl-intern-hiring-assessment/dataset/audios_train/audio_313.wav\n/kaggle/input/shl-intern-hiring-assessment/dataset/audios_train/audio_1252.wav\n/kaggle/input/shl-intern-hiring-assessment/dataset/audios_train/audio_194.wav\n/kaggle/input/shl-intern-hiring-assessment/dataset/audios_train/audio_427.wav\n/kaggle/input/shl-intern-hiring-assessment/dataset/audios_train/audio_93.wav\n/kaggle/input/shl-intern-hiring-assessment/dataset/audios_train/audio_1162.wav\n/kaggle/input/shl-intern-hiring-assessment/dataset/audios_train/audio_142.wav\n/kaggle/input/shl-intern-hiring-assessment/dataset/audios_train/audio_708.wav\n/kaggle/input/shl-intern-hiring-assessment/dataset/audios_train/audio_492.wav\n/kaggle/input/shl-intern-hiring-assessment/dataset/audios_train/audio_934.wav\n/kaggle/input/shl-intern-hiring-assessment/dataset/audios_train/audio_826.wav\n/kaggle/input/shl-intern-hiring-assessment/dataset/audios_train/audio_931.wav\n/kaggle/input/shl-intern-hiring-assessment/dataset/audios_train/audio_255.wav\n/kaggle/input/shl-intern-hiring-assessment/dataset/audios_train/audio_654.wav\n/kaggle/input/shl-intern-hiring-assessment/dataset/audios_train/audio_703.wav\n/kaggle/input/shl-intern-hiring-assessment/dataset/audios_train/audio_657.wav\n/kaggle/input/shl-intern-hiring-assessment/dataset/audios_train/audio_5.wav\n/kaggle/input/shl-intern-hiring-assessment/dataset/audios_train/audio_185.wav\n/kaggle/input/shl-intern-hiring-assessment/dataset/audios_train/audio_1175.wav\n/kaggle/input/shl-intern-hiring-assessment/dataset/audios_train/audio_1120.wav\n/kaggle/input/shl-intern-hiring-assessment/dataset/audios_train/audio_1128.wav\n/kaggle/input/shl-intern-hiring-assessment/dataset/audios_train/audio_1066.wav\n/kaggle/input/shl-intern-hiring-assessment/dataset/audios_train/audio_80.wav\n/kaggle/input/shl-intern-hiring-assessment/dataset/audios_train/audio_668.wav\n/kaggle/input/shl-intern-hiring-assessment/dataset/audios_train/audio_8.wav\n/kaggle/input/shl-intern-hiring-assessment/dataset/audios_train/audio_763.wav\n/kaggle/input/shl-intern-hiring-assessment/dataset/audios_train/audio_85.wav\n/kaggle/input/shl-intern-hiring-assessment/dataset/audios_train/audio_1318.wav\n/kaggle/input/shl-intern-hiring-assessment/dataset/audios_train/audio_303.wav\n/kaggle/input/shl-intern-hiring-assessment/dataset/audios_train/audio_727.wav\n/kaggle/input/shl-intern-hiring-assessment/dataset/audios_train/audio_1057.wav\n/kaggle/input/shl-intern-hiring-assessment/dataset/audios_train/audio_469.wav\n/kaggle/input/shl-intern-hiring-assessment/dataset/audios_train/audio_965.wav\n/kaggle/input/shl-intern-hiring-assessment/dataset/audios_train/audio_202.wav\n/kaggle/input/shl-intern-hiring-assessment/dataset/audios_train/audio_127.wav\n/kaggle/input/shl-intern-hiring-assessment/dataset/audios_train/audio_677.wav\n/kaggle/input/shl-intern-hiring-assessment/dataset/audios_train/audio_788.wav\n/kaggle/input/shl-intern-hiring-assessment/dataset/audios_train/audio_904.wav\n/kaggle/input/shl-intern-hiring-assessment/dataset/audios_train/audio_695.wav\n/kaggle/input/shl-intern-hiring-assessment/dataset/audios_train/audio_463.wav\n/kaggle/input/shl-intern-hiring-assessment/dataset/audios_train/audio_1075.wav\n/kaggle/input/shl-intern-hiring-assessment/dataset/audios_train/audio_130.wav\n/kaggle/input/shl-intern-hiring-assessment/dataset/audios_train/audio_273.wav\n/kaggle/input/shl-intern-hiring-assessment/dataset/audios_train/audio_489.wav\n/kaggle/input/shl-intern-hiring-assessment/dataset/audios_train/audio_293.wav\n/kaggle/input/shl-intern-hiring-assessment/dataset/audios_train/audio_1030.wav\n/kaggle/input/shl-intern-hiring-assessment/dataset/audios_train/audio_970.wav\n/kaggle/input/shl-intern-hiring-assessment/dataset/audios_train/audio_239.wav\n/kaggle/input/shl-intern-hiring-assessment/dataset/audios_train/audio_252.wav\n/kaggle/input/shl-intern-hiring-assessment/dataset/audios_train/audio_311.wav\n/kaggle/input/shl-intern-hiring-assessment/dataset/audios_train/audio_240.wav\n/kaggle/input/shl-intern-hiring-assessment/dataset/audios_train/audio_288.wav\n/kaggle/input/shl-intern-hiring-assessment/dataset/audios_train/audio_1226.wav\n/kaggle/input/shl-intern-hiring-assessment/dataset/audios_train/audio_146.wav\n/kaggle/input/shl-intern-hiring-assessment/dataset/audios_train/audio_643.wav\n/kaggle/input/shl-intern-hiring-assessment/dataset/audios_train/audio_675.wav\n/kaggle/input/shl-intern-hiring-assessment/dataset/audios_train/audio_731.wav\n/kaggle/input/shl-intern-hiring-assessment/dataset/audios_train/audio_1191.wav\n/kaggle/input/shl-intern-hiring-assessment/dataset/audios_train/audio_52.wav\n/kaggle/input/shl-intern-hiring-assessment/dataset/audios_train/audio_504.wav\n/kaggle/input/shl-intern-hiring-assessment/dataset/audios_train/audio_1112.wav\n/kaggle/input/shl-intern-hiring-assessment/dataset/audios_train/audio_875.wav\n/kaggle/input/shl-intern-hiring-assessment/dataset/audios_train/audio_460.wav\n/kaggle/input/shl-intern-hiring-assessment/dataset/audios_train/audio_1111.wav\n/kaggle/input/shl-intern-hiring-assessment/dataset/audios_train/audio_736.wav\n/kaggle/input/shl-intern-hiring-assessment/dataset/audios_train/audio_1333.wav\n/kaggle/input/shl-intern-hiring-assessment/dataset/audios_train/audio_365.wav\n/kaggle/input/shl-intern-hiring-assessment/dataset/audios_train/audio_937.wav\n/kaggle/input/shl-intern-hiring-assessment/dataset/audios_train/audio_332.wav\n/kaggle/input/shl-intern-hiring-assessment/dataset/audios_train/audio_1335.wav\n/kaggle/input/shl-intern-hiring-assessment/dataset/audios_train/audio_681.wav\n/kaggle/input/shl-intern-hiring-assessment/dataset/audios_train/audio_808.wav\n/kaggle/input/shl-intern-hiring-assessment/dataset/audios_train/audio_766.wav\n/kaggle/input/shl-intern-hiring-assessment/dataset/audios_train/audio_700.wav\n/kaggle/input/shl-intern-hiring-assessment/dataset/audios_train/audio_1247.wav\n/kaggle/input/shl-intern-hiring-assessment/dataset/audios_train/audio_686.wav\n/kaggle/input/shl-intern-hiring-assessment/dataset/audios_train/audio_1313.wav\n/kaggle/input/shl-intern-hiring-assessment/dataset/audios_train/audio_867.wav\n/kaggle/input/shl-intern-hiring-assessment/dataset/audios_train/audio_939.wav\n/kaggle/input/shl-intern-hiring-assessment/dataset/audios_train/audio_917.wav\n/kaggle/input/shl-intern-hiring-assessment/dataset/audios_train/audio_620.wav\n/kaggle/input/shl-intern-hiring-assessment/dataset/audios_train/audio_1099.wav\n/kaggle/input/shl-intern-hiring-assessment/dataset/audios_train/audio_339.wav\n/kaggle/input/shl-intern-hiring-assessment/dataset/audios_train/audio_1147.wav\n/kaggle/input/shl-intern-hiring-assessment/dataset/audios_train/audio_921.wav\n/kaggle/input/shl-intern-hiring-assessment/dataset/audios_train/audio_484.wav\n/kaggle/input/shl-intern-hiring-assessment/dataset/audios_train/audio_745.wav\n/kaggle/input/shl-intern-hiring-assessment/dataset/audios_train/audio_1274.wav\n/kaggle/input/shl-intern-hiring-assessment/dataset/audios_train/audio_1326.wav\n/kaggle/input/shl-intern-hiring-assessment/dataset/audios_train/audio_527.wav\n/kaggle/input/shl-intern-hiring-assessment/dataset/audios_train/audio_948.wav\n/kaggle/input/shl-intern-hiring-assessment/dataset/audios_train/audio_870.wav\n/kaggle/input/shl-intern-hiring-assessment/dataset/audios_train/audio_362.wav\n/kaggle/input/shl-intern-hiring-assessment/dataset/audios_train/audio_873.wav\n/kaggle/input/shl-intern-hiring-assessment/dataset/audios_train/audio_482.wav\n/kaggle/input/shl-intern-hiring-assessment/dataset/audios_train/audio_1307.wav\n/kaggle/input/shl-intern-hiring-assessment/dataset/audios_train/audio_680.wav\n/kaggle/input/shl-intern-hiring-assessment/dataset/audios_train/audio_140.wav\n/kaggle/input/shl-intern-hiring-assessment/dataset/audios_train/audio_1196.wav\n/kaggle/input/shl-intern-hiring-assessment/dataset/audios_train/audio_582.wav\n/kaggle/input/shl-intern-hiring-assessment/dataset/audios_train/audio_17.wav\n/kaggle/input/shl-intern-hiring-assessment/dataset/audios_train/audio_533.wav\n/kaggle/input/shl-intern-hiring-assessment/dataset/audios_train/audio_154.wav\n/kaggle/input/shl-intern-hiring-assessment/dataset/audios_train/audio_963.wav\n/kaggle/input/shl-intern-hiring-assessment/dataset/audios_train/audio_926.wav\n/kaggle/input/shl-intern-hiring-assessment/dataset/audios_train/audio_1264.wav\n/kaggle/input/shl-intern-hiring-assessment/dataset/audios_train/audio_1102.wav\n/kaggle/input/shl-intern-hiring-assessment/dataset/audios_train/audio_630.wav\n/kaggle/input/shl-intern-hiring-assessment/dataset/audios_train/audio_730.wav\n/kaggle/input/shl-intern-hiring-assessment/dataset/audios_train/audio_317.wav\n/kaggle/input/shl-intern-hiring-assessment/dataset/audios_train/audio_440.wav\n/kaggle/input/shl-intern-hiring-assessment/dataset/audios_train/audio_611.wav\n/kaggle/input/shl-intern-hiring-assessment/dataset/audios_train/audio_69.wav\n/kaggle/input/shl-intern-hiring-assessment/dataset/audios_train/audio_64.wav\n/kaggle/input/shl-intern-hiring-assessment/dataset/audios_train/audio_978.wav\n/kaggle/input/shl-intern-hiring-assessment/dataset/audios_train/audio_494.wav\n/kaggle/input/shl-intern-hiring-assessment/dataset/audios_train/audio_131.wav\n/kaggle/input/shl-intern-hiring-assessment/dataset/audios_train/audio_336.wav\n/kaggle/input/shl-intern-hiring-assessment/dataset/audios_train/audio_105.wav\n/kaggle/input/shl-intern-hiring-assessment/dataset/audios_train/audio_395.wav\n/kaggle/input/shl-intern-hiring-assessment/dataset/audios_train/audio_324.wav\n/kaggle/input/shl-intern-hiring-assessment/dataset/audios_train/audio_358.wav\n/kaggle/input/shl-intern-hiring-assessment/dataset/audios_train/audio_707.wav\n/kaggle/input/shl-intern-hiring-assessment/dataset/audios_train/audio_15.wav\n/kaggle/input/shl-intern-hiring-assessment/dataset/audios_train/audio_63.wav\n/kaggle/input/shl-intern-hiring-assessment/dataset/audios_train/audio_744.wav\n/kaggle/input/shl-intern-hiring-assessment/dataset/audios_train/audio_1038.wav\n/kaggle/input/shl-intern-hiring-assessment/dataset/audios_train/audio_167.wav\n/kaggle/input/shl-intern-hiring-assessment/dataset/audios_train/audio_956.wav\n/kaggle/input/shl-intern-hiring-assessment/dataset/audios_train/audio_716.wav\n/kaggle/input/shl-intern-hiring-assessment/dataset/audios_train/audio_334.wav\n/kaggle/input/shl-intern-hiring-assessment/dataset/audios_train/audio_868.wav\n/kaggle/input/shl-intern-hiring-assessment/dataset/audios_train/audio_854.wav\n/kaggle/input/shl-intern-hiring-assessment/dataset/audios_train/audio_245.wav\n/kaggle/input/shl-intern-hiring-assessment/dataset/audios_train/audio_903.wav\n/kaggle/input/shl-intern-hiring-assessment/dataset/audios_train/audio_834.wav\n/kaggle/input/shl-intern-hiring-assessment/dataset/audios_train/audio_1110.wav\n/kaggle/input/shl-intern-hiring-assessment/dataset/audios_train/audio_432.wav\n/kaggle/input/shl-intern-hiring-assessment/dataset/audios_train/audio_236.wav\n/kaggle/input/shl-intern-hiring-assessment/dataset/audios_train/audio_1208.wav\n/kaggle/input/shl-intern-hiring-assessment/dataset/audios_train/audio_200.wav\n/kaggle/input/shl-intern-hiring-assessment/dataset/audios_train/audio_1078.wav\n/kaggle/input/shl-intern-hiring-assessment/dataset/audios_train/audio_1200.wav\n/kaggle/input/shl-intern-hiring-assessment/dataset/audios_train/audio_353.wav\n/kaggle/input/shl-intern-hiring-assessment/dataset/audios_train/audio_947.wav\n/kaggle/input/shl-intern-hiring-assessment/dataset/audios_train/audio_212.wav\n/kaggle/input/shl-intern-hiring-assessment/dataset/audios_train/audio_168.wav\n/kaggle/input/shl-intern-hiring-assessment/dataset/audios_train/audio_352.wav\n/kaggle/input/shl-intern-hiring-assessment/dataset/audios_train/audio_445.wav\n/kaggle/input/shl-intern-hiring-assessment/dataset/audios_train/audio_419.wav\n/kaggle/input/shl-intern-hiring-assessment/dataset/audios_train/audio_1332.wav\n/kaggle/input/shl-intern-hiring-assessment/dataset/audios_train/audio_701.wav\n/kaggle/input/shl-intern-hiring-assessment/dataset/audios_train/audio_117.wav\n/kaggle/input/shl-intern-hiring-assessment/dataset/audios_train/audio_1059.wav\n/kaggle/input/shl-intern-hiring-assessment/dataset/audios_train/audio_790.wav\n/kaggle/input/shl-intern-hiring-assessment/dataset/audios_train/audio_390.wav\n/kaggle/input/shl-intern-hiring-assessment/dataset/audios_train/audio_586.wav\n/kaggle/input/shl-intern-hiring-assessment/dataset/audios_train/audio_226.wav\n/kaggle/input/shl-intern-hiring-assessment/dataset/audios_train/audio_699.wav\n/kaggle/input/shl-intern-hiring-assessment/dataset/audios_train/audio_363.wav\n/kaggle/input/shl-intern-hiring-assessment/dataset/audios_train/audio_988.wav\n/kaggle/input/shl-intern-hiring-assessment/dataset/audios_train/audio_485.wav\n/kaggle/input/shl-intern-hiring-assessment/dataset/audios_train/audio_241.wav\n/kaggle/input/shl-intern-hiring-assessment/dataset/audios_train/audio_481.wav\n/kaggle/input/shl-intern-hiring-assessment/dataset/audios_train/audio_652.wav\n/kaggle/input/shl-intern-hiring-assessment/dataset/audios_train/audio_424.wav\n/kaggle/input/shl-intern-hiring-assessment/dataset/audios_train/audio_483.wav\n/kaggle/input/shl-intern-hiring-assessment/dataset/audios_train/audio_1017.wav\n/kaggle/input/shl-intern-hiring-assessment/dataset/audios_train/audio_890.wav\n/kaggle/input/shl-intern-hiring-assessment/dataset/audios_train/audio_1065.wav\n/kaggle/input/shl-intern-hiring-assessment/dataset/audios_train/audio_787.wav\n/kaggle/input/shl-intern-hiring-assessment/dataset/audios_train/audio_627.wav\n/kaggle/input/shl-intern-hiring-assessment/dataset/audios_train/audio_1290.wav\n/kaggle/input/shl-intern-hiring-assessment/dataset/audios_train/audio_758.wav\n/kaggle/input/shl-intern-hiring-assessment/dataset/audios_train/audio_1314.wav\n/kaggle/input/shl-intern-hiring-assessment/dataset/audios_train/audio_272.wav\n/kaggle/input/shl-intern-hiring-assessment/dataset/audios_train/audio_687.wav\n/kaggle/input/shl-intern-hiring-assessment/dataset/audios_train/audio_809.wav\n/kaggle/input/shl-intern-hiring-assessment/dataset/audios_train/audio_312.wav\n/kaggle/input/shl-intern-hiring-assessment/dataset/audios_train/audio_902.wav\n/kaggle/input/shl-intern-hiring-assessment/dataset/audios_train/audio_1296.wav\n/kaggle/input/shl-intern-hiring-assessment/dataset/audios_train/audio_147.wav\n/kaggle/input/shl-intern-hiring-assessment/dataset/audios_train/audio_783.wav\n/kaggle/input/shl-intern-hiring-assessment/dataset/audios_train/audio_144.wav\n/kaggle/input/shl-intern-hiring-assessment/dataset/audios_train/audio_373.wav\n/kaggle/input/shl-intern-hiring-assessment/dataset/audios_train/audio_887.wav\n/kaggle/input/shl-intern-hiring-assessment/dataset/audios_train/audio_443.wav\n/kaggle/input/shl-intern-hiring-assessment/dataset/audios_train/audio_350.wav\n/kaggle/input/shl-intern-hiring-assessment/dataset/audios_train/audio_503.wav\n/kaggle/input/shl-intern-hiring-assessment/dataset/audios_train/audio_62.wav\n/kaggle/input/shl-intern-hiring-assessment/dataset/audios_train/audio_402.wav\n/kaggle/input/shl-intern-hiring-assessment/dataset/audios_train/audio_1031.wav\n/kaggle/input/shl-intern-hiring-assessment/dataset/audios_train/audio_116.wav\n/kaggle/input/shl-intern-hiring-assessment/dataset/audios_train/audio_693.wav\n/kaggle/input/shl-intern-hiring-assessment/dataset/audios_train/audio_477.wav\n/kaggle/input/shl-intern-hiring-assessment/dataset/audios_train/audio_413.wav\n/kaggle/input/shl-intern-hiring-assessment/dataset/audios_train/audio_1025.wav\n/kaggle/input/shl-intern-hiring-assessment/dataset/audios_train/audio_123.wav\n/kaggle/input/shl-intern-hiring-assessment/dataset/audios_train/audio_133.wav\n/kaggle/input/shl-intern-hiring-assessment/dataset/audios_train/audio_647.wav\n/kaggle/input/shl-intern-hiring-assessment/dataset/audios_train/audio_1223.wav\n/kaggle/input/shl-intern-hiring-assessment/dataset/audios_train/audio_980.wav\n/kaggle/input/shl-intern-hiring-assessment/dataset/audios_train/audio_755.wav\n/kaggle/input/shl-intern-hiring-assessment/dataset/audios_train/audio_869.wav\n/kaggle/input/shl-intern-hiring-assessment/dataset/audios_train/audio_1148.wav\n/kaggle/input/shl-intern-hiring-assessment/dataset/audios_train/audio_685.wav\n/kaggle/input/shl-intern-hiring-assessment/dataset/audios_train/audio_678.wav\n/kaggle/input/shl-intern-hiring-assessment/dataset/audios_train/audio_53.wav\n/kaggle/input/shl-intern-hiring-assessment/dataset/audios_train/audio_1184.wav\n/kaggle/input/shl-intern-hiring-assessment/dataset/audios_train/audio_552.wav\n/kaggle/input/shl-intern-hiring-assessment/dataset/audios_train/audio_1216.wav\n/kaggle/input/shl-intern-hiring-assessment/dataset/audios_train/audio_1185.wav\n/kaggle/input/shl-intern-hiring-assessment/dataset/audios_train/audio_918.wav\n/kaggle/input/shl-intern-hiring-assessment/dataset/audios_train/audio_250.wav\n/kaggle/input/shl-intern-hiring-assessment/dataset/audios_train/audio_721.wav\n/kaggle/input/shl-intern-hiring-assessment/dataset/audios_train/audio_624.wav\n/kaggle/input/shl-intern-hiring-assessment/dataset/audios_train/audio_43.wav\n/kaggle/input/shl-intern-hiring-assessment/dataset/audios_train/audio_889.wav\n/kaggle/input/shl-intern-hiring-assessment/dataset/audios_train/audio_184.wav\n/kaggle/input/shl-intern-hiring-assessment/dataset/audios_train/audio_842.wav\n/kaggle/input/shl-intern-hiring-assessment/dataset/audios_train/audio_1125.wav\n/kaggle/input/shl-intern-hiring-assessment/dataset/audios_train/audio_9.wav\n/kaggle/input/shl-intern-hiring-assessment/dataset/audios_train/audio_455.wav\n/kaggle/input/shl-intern-hiring-assessment/dataset/audios_train/audio_1160.wav\n/kaggle/input/shl-intern-hiring-assessment/dataset/audios_train/audio_913.wav\n/kaggle/input/shl-intern-hiring-assessment/dataset/audios_train/audio_493.wav\n/kaggle/input/shl-intern-hiring-assessment/dataset/audios_train/audio_704.wav\n/kaggle/input/shl-intern-hiring-assessment/dataset/audios_train/audio_548.wav\n/kaggle/input/shl-intern-hiring-assessment/dataset/audios_train/audio_1230.wav\n/kaggle/input/shl-intern-hiring-assessment/dataset/audios_train/audio_961.wav\n/kaggle/input/shl-intern-hiring-assessment/dataset/audios_train/audio_832.wav\n/kaggle/input/shl-intern-hiring-assessment/dataset/audios_train/audio_33.wav\n/kaggle/input/shl-intern-hiring-assessment/dataset/audios_train/audio_896.wav\n/kaggle/input/shl-intern-hiring-assessment/dataset/audios_train/audio_827.wav\n/kaggle/input/shl-intern-hiring-assessment/dataset/audios_train/audio_748.wav\n/kaggle/input/shl-intern-hiring-assessment/dataset/audios_train/audio_658.wav\n/kaggle/input/shl-intern-hiring-assessment/dataset/audios_train/audio_471.wav\n/kaggle/input/shl-intern-hiring-assessment/dataset/audios_train/audio_1117.wav\n/kaggle/input/shl-intern-hiring-assessment/dataset/audios_train/audio_270.wav\n/kaggle/input/shl-intern-hiring-assessment/dataset/audios_train/audio_301.wav\n/kaggle/input/shl-intern-hiring-assessment/dataset/audios_train/audio_576.wav\n/kaggle/input/shl-intern-hiring-assessment/dataset/audios_train/audio_649.wav\n/kaggle/input/shl-intern-hiring-assessment/dataset/audios_train/audio_1261.wav\n/kaggle/input/shl-intern-hiring-assessment/dataset/audios_train/audio_640.wav\n/kaggle/input/shl-intern-hiring-assessment/dataset/audios_train/audio_636.wav\n/kaggle/input/shl-intern-hiring-assessment/dataset/audios_train/audio_1272.wav\n/kaggle/input/shl-intern-hiring-assessment/dataset/audios_train/audio_1135.wav\n/kaggle/input/shl-intern-hiring-assessment/dataset/audios_train/audio_74.wav\n/kaggle/input/shl-intern-hiring-assessment/dataset/audios_train/audio_983.wav\n/kaggle/input/shl-intern-hiring-assessment/dataset/audios_train/audio_993.wav\n/kaggle/input/shl-intern-hiring-assessment/dataset/audios_train/audio_480.wav\n/kaggle/input/shl-intern-hiring-assessment/dataset/audios_train/audio_1298.wav\n/kaggle/input/shl-intern-hiring-assessment/dataset/audios_train/audio_876.wav\n/kaggle/input/shl-intern-hiring-assessment/dataset/audios_train/audio_794.wav\n/kaggle/input/shl-intern-hiring-assessment/dataset/audios_train/audio_163.wav\n/kaggle/input/shl-intern-hiring-assessment/dataset/audios_train/audio_450.wav\n/kaggle/input/shl-intern-hiring-assessment/dataset/audios_train/audio_514.wav\n/kaggle/input/shl-intern-hiring-assessment/dataset/audios_train/audio_696.wav\n/kaggle/input/shl-intern-hiring-assessment/dataset/audios_train/audio_389.wav\n/kaggle/input/shl-intern-hiring-assessment/dataset/audios_train/audio_1008.wav\n/kaggle/input/shl-intern-hiring-assessment/dataset/audios_train/audio_1187.wav\n/kaggle/input/shl-intern-hiring-assessment/dataset/audios_train/audio_724.wav\n/kaggle/input/shl-intern-hiring-assessment/dataset/audios_train/audio_490.wav\n/kaggle/input/shl-intern-hiring-assessment/dataset/audios_train/audio_259.wav\n",
          "output_type": "stream"
        }
      ],
      "execution_count": null
    },
    {
      "cell_type": "code",
      "source": [
        "import torch\n",
        "from transformers import AutoModelForSpeechSeq2Seq, AutoProcessor, pipeline\n",
        "import librosa\n",
        "\n",
        "# Use a small Whisper model for efficient transcription\n",
        "model_id = \"openai/whisper-small\"\n",
        "processor = AutoProcessor.from_pretrained(model_id)\n",
        "model = AutoModelForSpeechSeq2Seq.from_pretrained(model_id)\n",
        "\n",
        "# Create a pipeline for transcription\n",
        "transcriber = pipeline(\n",
        "    \"automatic-speech-recognition\",\n",
        "    model=model,\n",
        "    tokenizer=processor.tokenizer,\n",
        "    feature_extractor=processor.feature_extractor,\n",
        "    max_new_tokens=128,\n",
        "    chunk_length_s=30,\n",
        "    batch_size=8,\n",
        "    device=torch.device(\"cuda\" if torch.cuda.is_available() else \"cpu\")\n",
        ")\n",
        "\n",
        "def transcribe_audio(audio_path):\n",
        "    # Load audio file\n",
        "    speech_array, _ = librosa.load(audio_path, sr=16000)\n",
        "    # Get transcription\n",
        "    result = transcriber(speech_array)\n",
        "    return result[\"text\"]"
      ],
      "metadata": {
        "trusted": true,
        "execution": {
          "iopub.status.busy": "2025-04-07T12:19:12.943541Z",
          "iopub.execute_input": "2025-04-07T12:19:12.943942Z",
          "iopub.status.idle": "2025-04-07T12:19:46.16284Z",
          "shell.execute_reply.started": "2025-04-07T12:19:12.943909Z",
          "shell.execute_reply": "2025-04-07T12:19:46.161929Z"
        },
        "id": "izrhP4mbROpL",
        "outputId": "74a70fb7-f270-4863-b59f-395267f31d20",
        "colab": {
          "referenced_widgets": [
            "a975bdf6b4404742b6c6a3d3a7a5af4a",
            "53547d596a324e72993821bc3e4ed88f",
            "1c28f25c67504d9cb3ce579c4c485646",
            "c4247e7405bc46ab91574ba4e0c9cdf1",
            "9ebc8424912e4185bd0184330cc24ded",
            "6238c005e3944361918a3f030a63a466",
            "39657e5e794c4fb4a82e7b22abb42c5c",
            "dd4dc5a765514382a872c6bbd8199947",
            "e1bc9a72754542f395ce92642e5d4c08",
            "e09fcb690f2b41e5a47af92f28083987",
            "d82d8b1050fb44fea1e2a9180d95f21a"
          ]
        }
      },
      "outputs": [
        {
          "output_type": "display_data",
          "data": {
            "text/plain": "preprocessor_config.json:   0%|          | 0.00/185k [00:00<?, ?B/s]",
            "application/vnd.jupyter.widget-view+json": {
              "version_major": 2,
              "version_minor": 0,
              "model_id": "a975bdf6b4404742b6c6a3d3a7a5af4a"
            }
          },
          "metadata": {}
        },
        {
          "output_type": "display_data",
          "data": {
            "text/plain": "tokenizer_config.json:   0%|          | 0.00/283k [00:00<?, ?B/s]",
            "application/vnd.jupyter.widget-view+json": {
              "version_major": 2,
              "version_minor": 0,
              "model_id": "53547d596a324e72993821bc3e4ed88f"
            }
          },
          "metadata": {}
        },
        {
          "output_type": "display_data",
          "data": {
            "text/plain": "vocab.json:   0%|          | 0.00/836k [00:00<?, ?B/s]",
            "application/vnd.jupyter.widget-view+json": {
              "version_major": 2,
              "version_minor": 0,
              "model_id": "1c28f25c67504d9cb3ce579c4c485646"
            }
          },
          "metadata": {}
        },
        {
          "output_type": "display_data",
          "data": {
            "text/plain": "tokenizer.json:   0%|          | 0.00/2.48M [00:00<?, ?B/s]",
            "application/vnd.jupyter.widget-view+json": {
              "version_major": 2,
              "version_minor": 0,
              "model_id": "c4247e7405bc46ab91574ba4e0c9cdf1"
            }
          },
          "metadata": {}
        },
        {
          "output_type": "display_data",
          "data": {
            "text/plain": "merges.txt:   0%|          | 0.00/494k [00:00<?, ?B/s]",
            "application/vnd.jupyter.widget-view+json": {
              "version_major": 2,
              "version_minor": 0,
              "model_id": "9ebc8424912e4185bd0184330cc24ded"
            }
          },
          "metadata": {}
        },
        {
          "output_type": "display_data",
          "data": {
            "text/plain": "normalizer.json:   0%|          | 0.00/52.7k [00:00<?, ?B/s]",
            "application/vnd.jupyter.widget-view+json": {
              "version_major": 2,
              "version_minor": 0,
              "model_id": "6238c005e3944361918a3f030a63a466"
            }
          },
          "metadata": {}
        },
        {
          "output_type": "display_data",
          "data": {
            "text/plain": "added_tokens.json:   0%|          | 0.00/34.6k [00:00<?, ?B/s]",
            "application/vnd.jupyter.widget-view+json": {
              "version_major": 2,
              "version_minor": 0,
              "model_id": "39657e5e794c4fb4a82e7b22abb42c5c"
            }
          },
          "metadata": {}
        },
        {
          "output_type": "display_data",
          "data": {
            "text/plain": "special_tokens_map.json:   0%|          | 0.00/2.19k [00:00<?, ?B/s]",
            "application/vnd.jupyter.widget-view+json": {
              "version_major": 2,
              "version_minor": 0,
              "model_id": "dd4dc5a765514382a872c6bbd8199947"
            }
          },
          "metadata": {}
        },
        {
          "output_type": "display_data",
          "data": {
            "text/plain": "config.json:   0%|          | 0.00/1.97k [00:00<?, ?B/s]",
            "application/vnd.jupyter.widget-view+json": {
              "version_major": 2,
              "version_minor": 0,
              "model_id": "e1bc9a72754542f395ce92642e5d4c08"
            }
          },
          "metadata": {}
        },
        {
          "output_type": "display_data",
          "data": {
            "text/plain": "model.safetensors:   0%|          | 0.00/967M [00:00<?, ?B/s]",
            "application/vnd.jupyter.widget-view+json": {
              "version_major": 2,
              "version_minor": 0,
              "model_id": "e09fcb690f2b41e5a47af92f28083987"
            }
          },
          "metadata": {}
        },
        {
          "output_type": "display_data",
          "data": {
            "text/plain": "generation_config.json:   0%|          | 0.00/3.87k [00:00<?, ?B/s]",
            "application/vnd.jupyter.widget-view+json": {
              "version_major": 2,
              "version_minor": 0,
              "model_id": "d82d8b1050fb44fea1e2a9180d95f21a"
            }
          },
          "metadata": {}
        },
        {
          "name": "stderr",
          "text": "Device set to use cuda\n/usr/local/lib/python3.10/dist-packages/transformers/pipelines/automatic_speech_recognition.py:312: FutureWarning: `max_new_tokens` is deprecated and will be removed in version 4.49 of Transformers. To remove this warning, pass `max_new_tokens` as a key inside `generate_kwargs` instead.\n  warnings.warn(\n",
          "output_type": "stream"
        }
      ],
      "execution_count": null
    },
    {
      "cell_type": "code",
      "source": [
        "from sklearn.feature_extraction.text import TfidfVectorizer\n",
        "from sklearn.linear_model import Ridge\n",
        "import joblib\n",
        "def prepare_training_data(csv_path, audio_folder, transcriber):\n",
        "    df = pd.read_csv(csv_path)\n",
        "    transcriptions = []\n",
        "    scores = []  # placeholder if you compute WER, similarity, etc.\n",
        "\n",
        "    for idx, row in df.iterrows():\n",
        "        audio_file = os.path.join(audio_folder, row['filename'])\n",
        "        try:\n",
        "            transcription = transcribe_audio(audio_file)\n",
        "            transcriptions.append(transcription)\n",
        "\n",
        "            # Dummy score placeholder\n",
        "            scores.append(1.0)  # Or calculate something real\n",
        "        except Exception as e:\n",
        "            print(f\"Error processing {audio_file}: {e}\")\n",
        "            transcriptions.append(\"\")\n",
        "            scores.append(0.0)\n",
        "\n",
        "    return transcriptions, scores\n",
        "def train_simple_grammar_model(transcriptions, scores):\n",
        "    # Convert dictionary to lists\n",
        "    filenames = list(transcriptions.keys())\n",
        "    text_list = [transcriptions[f] for f in filenames]\n",
        "    score_list = [scores[f] for f in filenames]\n",
        "\n",
        "    # Split data\n",
        "    train_texts, val_texts, train_scores, val_scores = train_test_split(\n",
        "        text_list, score_list, test_size=0.2, random_state=42\n",
        "    )\n",
        "\n",
        "    # Create a TF-IDF vectorizer\n",
        "    vectorizer = TfidfVectorizer(\n",
        "        max_features=5000,  # Limit features for memory\n",
        "        ngram_range=(1, 2),  # Use unigrams and bigrams\n",
        "        min_df=2  # Minimum document frequency\n",
        "    )\n",
        "\n",
        "    # Transform texts to TF-IDF features\n",
        "    X_train = vectorizer.fit_transform(train_texts)\n",
        "    X_val = vectorizer.transform(val_texts)\n",
        "\n",
        "    # Train a Ridge regression model\n",
        "    model = Ridge(alpha=1.0)\n",
        "    model.fit(X_train, train_scores)\n",
        "\n",
        "    # Evaluate on validation set\n",
        "    val_predictions = model.predict(X_val)\n",
        "    val_mse = np.mean((val_predictions - val_scores) ** 2)\n",
        "    print(f\"Validation MSE: {val_mse}\")\n",
        "\n",
        "    # Save the model and vectorizer\n",
        "    joblib.dump(model, \"grammar_ridge_model.joblib\")\n",
        "    joblib.dump(vectorizer, \"grammar_tfidf_vectorizer.joblib\")\n",
        "\n",
        "    return \"grammar_ridge_model.joblib\", \"grammar_tfidf_vectorizer.joblib\"\n",
        "\n",
        "def predict_with_simple_model(model_path, vectorizer_path, test_csv_path, test_audio_folder, transcriber):\n",
        "    # Load test CSV\n",
        "    test_df = pd.read_csv(test_csv_path)\n",
        "\n",
        "    # Load model and vectorizer\n",
        "    model = joblib.load(model_path)\n",
        "    vectorizer = joblib.load(vectorizer_path)\n",
        "\n",
        "    # Prepare results\n",
        "    predictions = []\n",
        "    filenames = []\n",
        "\n",
        "    # Process audio files and predict scores\n",
        "    for index, row in test_df.iterrows():\n",
        "        filename = row['filename']  # Adjust column name if different\n",
        "        audio_path = os.path.join(test_audio_folder, filename)\n",
        "\n",
        "        if os.path.exists(audio_path):\n",
        "            # Transcribe\n",
        "            transcription = transcribe_audio(audio_path, transcriber)\n",
        "\n",
        "            if not transcription:\n",
        "                print(f\"Warning: Empty transcription for {filename}\")\n",
        "                predictions.append(0.0)  # Default score\n",
        "                filenames.append(filename)\n",
        "                continue\n",
        "\n",
        "            # Transform text to TF-IDF features\n",
        "            X = vectorizer.transform([transcription])\n",
        "\n",
        "            # Predict\n",
        "            score = model.predict(X)[0]\n",
        "\n",
        "            predictions.append(score)\n",
        "            filenames.append(filename)\n",
        "\n",
        "            # Optional: Print progress\n",
        "            if index % 10 == 0:\n",
        "                print(f\"Predicted {index} files\")\n",
        "\n",
        "    # Create submission dataframe\n",
        "    submission_df = pd.DataFrame({\n",
        "        'filename': filenames,\n",
        "        'label': predictions\n",
        "    })\n",
        "\n",
        "    return submission_df\n",
        "\n",
        "def main():\n",
        "    # Setup paths\n",
        "    train_csv_path = \"/kaggle/input/shl-intern-hiring-assessment/dataset/train.csv\"\n",
        "    train_audio_folder = \"/kaggle/input/shl-intern-hiring-assessment/dataset/audios_train\"\n",
        "    test_csv_path = \"/kaggle/input/shl-intern-hiring-assessment/dataset/test.csv\"\n",
        "    test_audio_folder = \"/kaggle/input/shl-intern-hiring-assessment/dataset/audios_test\"\n",
        "\n",
        "    # Initialize transcriber\n",
        "    from transformers import pipeline\n",
        "\n",
        "    # Prepare training data\n",
        "    print(\"Transcribing training audio...\")\n",
        "    transcriptions, scores = prepare_training_data(train_csv_path, train_audio_folder, transcriber)\n",
        "\n",
        "    # Train model\n",
        "    print(\"Training grammar model...\")\n",
        "    model_path = train_grammar_model(transcriptions, scores)\n",
        "    print(\"Generating predictions for test data...\")\n",
        "    submission_df = predict_grammar_scores(model_path, test_csv_path, test_audio_folder, transcriber)\n",
        "\n",
        "    # Save submission\n",
        "    submission_df.to_csv(\"grammar_score_submission.csv\", index=False)\n",
        "\n",
        "if __name__ == \"__main__\":\n",
        "    main()"
      ],
      "metadata": {
        "trusted": true,
        "execution": {
          "iopub.status.busy": "2025-04-07T12:22:33.666026Z",
          "iopub.execute_input": "2025-04-07T12:22:33.666376Z"
        },
        "id": "mTp3HQGKROpM",
        "outputId": "fec2c563-889d-482a-88eb-a2b77bd1919b"
      },
      "outputs": [
        {
          "name": "stdout",
          "text": "Transcribing training audio...\n",
          "output_type": "stream"
        },
        {
          "name": "stderr",
          "text": "/usr/local/lib/python3.10/dist-packages/transformers/models/whisper/generation_whisper.py:512: FutureWarning: The input name `inputs` is deprecated. Please make sure to use `input_features` instead.\n  warnings.warn(\nDue to a bug fix in https://github.com/huggingface/transformers/pull/28687 transcription using a multilingual Whisper will default to language detection followed by transcription instead of translation to English.This might be a breaking change for your use case. If you want to instead always translate your audio to English, make sure to pass `language='en'`.\nPassing a tuple of `past_key_values` is deprecated and will be removed in Transformers v4.43.0. You should pass an instance of `EncoderDecoderCache` instead, e.g. `past_key_values=EncoderDecoderCache.from_legacy_cache(past_key_values)`.\nThe attention mask is not set and cannot be inferred from input because pad token is same as eos token. As a consequence, you may observe unexpected behavior. Please pass your input's `attention_mask` to obtain reliable results.\nYou seem to be using the pipelines sequentially on GPU. In order to maximize efficiency please use a dataset\n",
          "output_type": "stream"
        }
      ],
      "execution_count": null
    },
    {
      "cell_type": "code",
      "source": [
        "def plot_test_predictions(predictions, title=\"Predicted Grammar Scores on Test Set\"):\n",
        "    plt.figure(figsize=(8, 5))\n",
        "    plt.hist(predictions, bins=30, color='lightgreen', edgecolor='black')\n",
        "    plt.title(title)\n",
        "    plt.xlabel(\"Predicted Score\")\n",
        "    plt.ylabel(\"Frequency\")\n",
        "    plt.grid(True)\n",
        "    plt.show()"
      ],
      "metadata": {
        "trusted": true,
        "execution": {
          "iopub.status.busy": "2025-04-07T12:19:46.516177Z",
          "iopub.status.idle": "2025-04-07T12:19:46.516564Z",
          "shell.execute_reply": "2025-04-07T12:19:46.516399Z"
        },
        "id": "i3n9BWyaROpM"
      },
      "outputs": [],
      "execution_count": null
    }
  ]
}